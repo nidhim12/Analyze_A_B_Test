{
 "cells": [
  {
   "cell_type": "markdown",
   "metadata": {},
   "source": [
    "## Analyze A/B Test Results\n",
    "\n",
    "\n",
    "## Table of Contents\n",
    "- [Introduction](#intro)\n",
    "- [Part I - Probability](#probability)\n",
    "- [Part II - A/B Test](#ab_test)\n",
    "- [Part III - Regression](#regression)\n",
    "\n",
    "\n",
    "<a id='intro'></a>\n",
    "### Introduction\n",
    "\n",
    "A/B tests are very commonly performed by data analysts and data scientists.  It is important that you get some practice working with the difficulties of these \n",
    "\n",
    "For this project, you will be working to understand the results of an A/B test run by an e-commerce website.  Your goal is to work through this notebook to help the company understand if they should implement the new page, keep the old page, or perhaps run the experiment longer to make their decision."
   ]
  },
  {
   "cell_type": "code",
   "execution_count": 1,
   "metadata": {},
   "outputs": [],
   "source": [
    "import pandas as pd\n",
    "import numpy as np\n",
    "import random\n",
    "import matplotlib.pyplot as plt\n",
    "%matplotlib inline\n",
    "#We are setting the seed to assure you get the same answers on quizzes as we set up\n",
    "random.seed(42)"
   ]
  },
  {
   "cell_type": "markdown",
   "metadata": {},
   "source": [
    "`1.` Now, read in the `ab_data.csv` data. Store it in `df`.\n",
    "\n",
    "a. Read in the dataset and take a look at the top few rows here:"
   ]
  },
  {
   "cell_type": "code",
   "execution_count": 2,
   "metadata": {},
   "outputs": [
    {
     "data": {
      "text/plain": [
       "147239"
      ]
     },
     "execution_count": 2,
     "metadata": {},
     "output_type": "execute_result"
    }
   ],
   "source": [
    "df = pd.read_csv('ab_data.csv')\n",
    "df.head()\n",
    "(df[df['landing_page']=='old_page']['user_id']).size"
   ]
  },
  {
   "cell_type": "markdown",
   "metadata": {},
   "source": [
    "b. Use the cell below to find the number of rows in the dataset."
   ]
  },
  {
   "cell_type": "code",
   "execution_count": 3,
   "metadata": {},
   "outputs": [
    {
     "data": {
      "text/plain": [
       "(294478, 5)"
      ]
     },
     "execution_count": 3,
     "metadata": {},
     "output_type": "execute_result"
    }
   ],
   "source": [
    "df.shape"
   ]
  },
  {
   "cell_type": "code",
   "execution_count": 4,
   "metadata": {},
   "outputs": [
    {
     "data": {
      "text/plain": [
       "str"
      ]
     },
     "execution_count": 4,
     "metadata": {},
     "output_type": "execute_result"
    }
   ],
   "source": [
    "type(df['group'][1])\n",
    "type(df['landing_page'][1])"
   ]
  },
  {
   "cell_type": "markdown",
   "metadata": {},
   "source": [
    "c. The number of unique users in the dataset."
   ]
  },
  {
   "cell_type": "code",
   "execution_count": 5,
   "metadata": {},
   "outputs": [
    {
     "data": {
      "text/plain": [
       "290584"
      ]
     },
     "execution_count": 5,
     "metadata": {},
     "output_type": "execute_result"
    }
   ],
   "source": [
    "df['user_id'].nunique()"
   ]
  },
  {
   "cell_type": "markdown",
   "metadata": {
    "collapsed": true
   },
   "source": [
    "d. The proportion of users converted."
   ]
  },
  {
   "cell_type": "code",
   "execution_count": 6,
   "metadata": {},
   "outputs": [
    {
     "data": {
      "text/plain": [
       "0.12104245244060237"
      ]
     },
     "execution_count": 6,
     "metadata": {},
     "output_type": "execute_result"
    }
   ],
   "source": [
    "# df[df['converted']==1]['user_id'].nunique()\n",
    "df1 = np.array(df[df['converted']==1]['user_id'].nunique())\n",
    "df1/df['user_id'].nunique()"
   ]
  },
  {
   "cell_type": "markdown",
   "metadata": {
    "collapsed": true
   },
   "source": [
    "e. The number of times the `new_page` and `treatment` don't match."
   ]
  },
  {
   "cell_type": "code",
   "execution_count": 7,
   "metadata": {},
   "outputs": [
    {
     "data": {
      "text/plain": [
       "3893"
      ]
     },
     "execution_count": 7,
     "metadata": {},
     "output_type": "execute_result"
    }
   ],
   "source": [
    "(df[(df['group']=='control') & (df['landing_page'] !='old_page')]['user_id'].nunique())+(df[(df['group']=='treatment') & (df['landing_page']!='new_page')]['user_id'].count())\n"
   ]
  },
  {
   "cell_type": "markdown",
   "metadata": {},
   "source": [
    "f. Do any of the rows have missing values?"
   ]
  },
  {
   "cell_type": "code",
   "execution_count": 8,
   "metadata": {},
   "outputs": [
    {
     "data": {
      "text/plain": [
       "user_id         0\n",
       "timestamp       0\n",
       "group           0\n",
       "landing_page    0\n",
       "converted       0\n",
       "dtype: int64"
      ]
     },
     "execution_count": 8,
     "metadata": {},
     "output_type": "execute_result"
    }
   ],
   "source": [
    "df.isna().sum()\n",
    "df.isnull().sum()"
   ]
  },
  {
   "cell_type": "markdown",
   "metadata": {},
   "source": [
    "`2.` For the rows where **treatment** does not match with **new_page** or **control** does not match with **old_page**, we cannot be sure if this row truly received the new or old page.  Use **Quiz 2** in the classroom to figure out how we should handle these rows.  \n",
    "\n",
    "a. Now use the answer to the quiz to create a new dataset that meets the specifications from the quiz.  Store your new dataframe in **df2**."
   ]
  },
  {
   "cell_type": "code",
   "execution_count": 9,
   "metadata": {},
   "outputs": [],
   "source": [
    "df2 = df"
   ]
  },
  {
   "cell_type": "code",
   "execution_count": 10,
   "metadata": {},
   "outputs": [],
   "source": [
    "df2 = df2[((df['group']=='treatment')&(df['landing_page']=='new_page'))|((df['group']=='control')&(df['landing_page']=='old_page'))]"
   ]
  },
  {
   "cell_type": "code",
   "execution_count": 11,
   "metadata": {},
   "outputs": [
    {
     "data": {
      "text/plain": [
       "0"
      ]
     },
     "execution_count": 11,
     "metadata": {},
     "output_type": "execute_result"
    }
   ],
   "source": [
    "# Double Check all of the correct rows were removed - this should be 0\n",
    "df2[((df2['group'] == 'treatment') == (df2['landing_page'] == 'new_page')) == False].shape[0]"
   ]
  },
  {
   "cell_type": "markdown",
   "metadata": {},
   "source": [
    "`3.` Use **df2** and the cells below to answer questions for **Quiz3** in the classroom."
   ]
  },
  {
   "cell_type": "markdown",
   "metadata": {},
   "source": [
    "a. How many unique **user_id**s are in **df2**?"
   ]
  },
  {
   "cell_type": "code",
   "execution_count": 12,
   "metadata": {},
   "outputs": [
    {
     "name": "stdout",
     "output_type": "stream",
     "text": [
      "290585\n"
     ]
    },
    {
     "data": {
      "text/plain": [
       "290584"
      ]
     },
     "execution_count": 12,
     "metadata": {},
     "output_type": "execute_result"
    }
   ],
   "source": [
    "print(df2['user_id'].count())\n",
    "df2['user_id'].nunique()"
   ]
  },
  {
   "cell_type": "markdown",
   "metadata": {
    "collapsed": true
   },
   "source": [
    "b. There is one **user_id** repeated in **df2**.  What is it?"
   ]
  },
  {
   "cell_type": "code",
   "execution_count": 13,
   "metadata": {},
   "outputs": [
    {
     "data": {
      "text/html": [
       "<div>\n",
       "<style scoped>\n",
       "    .dataframe tbody tr th:only-of-type {\n",
       "        vertical-align: middle;\n",
       "    }\n",
       "\n",
       "    .dataframe tbody tr th {\n",
       "        vertical-align: top;\n",
       "    }\n",
       "\n",
       "    .dataframe thead th {\n",
       "        text-align: right;\n",
       "    }\n",
       "</style>\n",
       "<table border=\"1\" class=\"dataframe\">\n",
       "  <thead>\n",
       "    <tr style=\"text-align: right;\">\n",
       "      <th></th>\n",
       "      <th>user_id</th>\n",
       "      <th>timestamp</th>\n",
       "      <th>group</th>\n",
       "      <th>landing_page</th>\n",
       "      <th>converted</th>\n",
       "    </tr>\n",
       "  </thead>\n",
       "  <tbody>\n",
       "    <tr>\n",
       "      <th>2893</th>\n",
       "      <td>773192</td>\n",
       "      <td>2017-01-14 02:55:59.590927</td>\n",
       "      <td>treatment</td>\n",
       "      <td>new_page</td>\n",
       "      <td>0</td>\n",
       "    </tr>\n",
       "  </tbody>\n",
       "</table>\n",
       "</div>"
      ],
      "text/plain": [
       "      user_id                   timestamp      group landing_page  converted\n",
       "2893   773192  2017-01-14 02:55:59.590927  treatment     new_page          0"
      ]
     },
     "execution_count": 13,
     "metadata": {},
     "output_type": "execute_result"
    }
   ],
   "source": [
    "df2bool = df2.duplicated(subset=['user_id'],keep='first')\n",
    "df2.loc[df2bool==True]\n",
    "df2[df2.duplicated(subset=['user_id'],keep='first')]"
   ]
  },
  {
   "cell_type": "markdown",
   "metadata": {},
   "source": [
    "c. What is the row information for the repeat **user_id**? "
   ]
  },
  {
   "cell_type": "code",
   "execution_count": 14,
   "metadata": {},
   "outputs": [
    {
     "data": {
      "text/plain": [
       "2893"
      ]
     },
     "execution_count": 14,
     "metadata": {},
     "output_type": "execute_result"
    }
   ],
   "source": [
    "df2.loc[df2['user_id']==773192].index[1]"
   ]
  },
  {
   "cell_type": "markdown",
   "metadata": {},
   "source": [
    "d. Remove **one** of the rows with a duplicate **user_id**, but keep your dataframe as **df2**."
   ]
  },
  {
   "cell_type": "code",
   "execution_count": 15,
   "metadata": {},
   "outputs": [
    {
     "name": "stderr",
     "output_type": "stream",
     "text": [
      "/opt/conda/lib/python3.6/site-packages/ipykernel_launcher.py:1: SettingWithCopyWarning: \n",
      "A value is trying to be set on a copy of a slice from a DataFrame\n",
      "\n",
      "See the caveats in the documentation: http://pandas.pydata.org/pandas-docs/stable/indexing.html#indexing-view-versus-copy\n",
      "  \"\"\"Entry point for launching an IPython kernel.\n"
     ]
    }
   ],
   "source": [
    "df2.drop_duplicates(subset=['user_id'],keep='first',inplace=True)"
   ]
  },
  {
   "cell_type": "code",
   "execution_count": 16,
   "metadata": {},
   "outputs": [
    {
     "data": {
      "text/plain": [
       "user_id         290584\n",
       "timestamp       290584\n",
       "group           290584\n",
       "landing_page    290584\n",
       "converted       290584\n",
       "dtype: int64"
      ]
     },
     "execution_count": 16,
     "metadata": {},
     "output_type": "execute_result"
    }
   ],
   "source": [
    "#df2.drop(df2.loc[df2['user_id']==773192].index[1])\n",
    "df2.count()"
   ]
  },
  {
   "cell_type": "markdown",
   "metadata": {},
   "source": [
    "`4.` Use **df2** in the cells below to answer the quiz questions related to **Quiz 4** in the classroom.\n",
    "\n",
    "a. What is the probability of an individual converting regardless of the page they receive?"
   ]
  },
  {
   "cell_type": "code",
   "execution_count": 17,
   "metadata": {},
   "outputs": [
    {
     "data": {
      "text/plain": [
       "0.11959708724499628"
      ]
     },
     "execution_count": 17,
     "metadata": {},
     "output_type": "execute_result"
    }
   ],
   "source": [
    "df2['converted'].mean()"
   ]
  },
  {
   "cell_type": "markdown",
   "metadata": {},
   "source": [
    "b. Given that an individual was in the `control` group, what is the probability they converted?"
   ]
  },
  {
   "cell_type": "code",
   "execution_count": 18,
   "metadata": {},
   "outputs": [
    {
     "data": {
      "text/plain": [
       "0.1203863045004612"
      ]
     },
     "execution_count": 18,
     "metadata": {},
     "output_type": "execute_result"
    }
   ],
   "source": [
    "df2[df2['group']=='control']['converted'].mean()"
   ]
  },
  {
   "cell_type": "markdown",
   "metadata": {},
   "source": [
    "c. Given that an individual was in the `treatment` group, what is the probability they converted?"
   ]
  },
  {
   "cell_type": "code",
   "execution_count": 19,
   "metadata": {},
   "outputs": [
    {
     "data": {
      "text/plain": [
       "0.11880806551510564"
      ]
     },
     "execution_count": 19,
     "metadata": {},
     "output_type": "execute_result"
    }
   ],
   "source": [
    "df2[df2['group']=='treatment']['converted'].mean()"
   ]
  },
  {
   "cell_type": "markdown",
   "metadata": {},
   "source": [
    "d. What is the probability that an individual received the new page?"
   ]
  },
  {
   "cell_type": "code",
   "execution_count": 20,
   "metadata": {},
   "outputs": [
    {
     "data": {
      "text/plain": [
       "0.50006194422266881"
      ]
     },
     "execution_count": 20,
     "metadata": {},
     "output_type": "execute_result"
    }
   ],
   "source": [
    "(df2[df2['landing_page'] =='new_page']['user_id'].count())/df2['user_id'].count()"
   ]
  },
  {
   "cell_type": "markdown",
   "metadata": {},
   "source": [
    "e. Consider your results from parts (a) through (d) above, and explain below whether you think there is sufficient evidence to conclude that the new treatment page leads to more conversions."
   ]
  },
  {
   "cell_type": "markdown",
   "metadata": {},
   "source": [
    "**Answer:** No there isnt sufficient evidence considering the results to conclude that treatment page leads to more convertions. We can see that 50% of individuals were given new page and yet the convertion rate is mere 11%. Even the difference between converstion rates of control and treatment group is not significant enough. Hence we cant conclude the new treatment page leads to more conversions."
   ]
  },
  {
   "cell_type": "markdown",
   "metadata": {},
   "source": [
    "<a id='ab_test'></a>\n",
    "### Part II - A/B Test\n",
    "\n",
    "Notice that because of the time stamp associated with each event, you could technically run a hypothesis test continuously as each observation was observed.  \n",
    "\n",
    "However, then the hard question is do you stop as soon as one page is considered significantly better than another or does it need to happen consistently for a certain amount of time?  How long do you run to render a decision that neither page is better than another?  \n",
    "\n",
    "These questions are the difficult parts associated with A/B tests in general.  \n",
    "\n",
    "\n",
    "`1.` For now, consider you need to make the decision just based on all the data provided.  If you want to assume that the old page is better unless the new page proves to be definitely better at a Type I error rate of 5%, what should your null and alternative hypotheses be?  You can state your hypothesis in terms of words or in terms of **$p_{old}$** and **$p_{new}$**, which are the converted rates for the old and new pages."
   ]
  },
  {
   "cell_type": "markdown",
   "metadata": {},
   "source": [
    "**Answer: $H_{0}: P_{new}  -  P_{old} <= 0.05$**<br> \n",
    "&nbsp;&nbsp;&nbsp;&nbsp;&nbsp;&nbsp;&nbsp;&nbsp;&nbsp;&nbsp;&nbsp;&nbsp;&nbsp;&nbsp;&nbsp;**$H_{1}: P_{new}  -  P_{old} > 0.05$**"
   ]
  },
  {
   "cell_type": "markdown",
   "metadata": {},
   "source": [
    "`2.` Assume under the null hypothesis, $p_{new}$ and $p_{old}$ both have \"true\" success rates equal to the **converted** success rate regardless of page - that is $p_{new}$ and $p_{old}$ are equal. Furthermore, assume they are equal to the **converted** rate in **ab_data.csv** regardless of the page. <br><br>\n",
    "\n",
    "Use a sample size for each page equal to the ones in **ab_data.csv**.  <br><br>\n",
    "\n",
    "Perform the sampling distribution for the difference in **converted** between the two pages over 10,000 iterations of calculating an estimate from the null.  <br><br>\n",
    "\n",
    "Use the cells below to provide the necessary parts of this simulation.  If this doesn't make complete sense right now, don't worry - you are going to work through the problems below to complete this problem.  You can use **Quiz 5** in the classroom to make sure you are on the right track.<br><br>"
   ]
  },
  {
   "cell_type": "markdown",
   "metadata": {},
   "source": [
    "a. What is the **conversion rate** for $p_{new}$ under the null? "
   ]
  },
  {
   "cell_type": "code",
   "execution_count": 21,
   "metadata": {},
   "outputs": [],
   "source": [
    "new_mean = df2['converted'].mean()"
   ]
  },
  {
   "cell_type": "code",
   "execution_count": 22,
   "metadata": {},
   "outputs": [
    {
     "data": {
      "text/plain": [
       "0.11959708724499628"
      ]
     },
     "execution_count": 22,
     "metadata": {},
     "output_type": "execute_result"
    }
   ],
   "source": [
    "new_mean"
   ]
  },
  {
   "cell_type": "markdown",
   "metadata": {},
   "source": [
    "b. What is the **conversion rate** for $p_{old}$ under the null? <br><br>"
   ]
  },
  {
   "cell_type": "code",
   "execution_count": 23,
   "metadata": {},
   "outputs": [],
   "source": [
    "old_mean = df2['converted'].mean()"
   ]
  },
  {
   "cell_type": "code",
   "execution_count": 24,
   "metadata": {},
   "outputs": [
    {
     "data": {
      "text/plain": [
       "0.11959708724499628"
      ]
     },
     "execution_count": 24,
     "metadata": {},
     "output_type": "execute_result"
    }
   ],
   "source": [
    "old_mean"
   ]
  },
  {
   "cell_type": "markdown",
   "metadata": {},
   "source": [
    "c. What is $n_{new}$, the number of individuals in the treatment group?"
   ]
  },
  {
   "cell_type": "code",
   "execution_count": 25,
   "metadata": {},
   "outputs": [
    {
     "data": {
      "text/plain": [
       "145310"
      ]
     },
     "execution_count": 25,
     "metadata": {},
     "output_type": "execute_result"
    }
   ],
   "source": [
    "newn = sum(df2['landing_page']=='new_page')\n",
    "newn"
   ]
  },
  {
   "cell_type": "markdown",
   "metadata": {},
   "source": [
    "d. What is $n_{old}$, the number of individuals in the control group?"
   ]
  },
  {
   "cell_type": "code",
   "execution_count": 26,
   "metadata": {},
   "outputs": [
    {
     "data": {
      "text/plain": [
       "145274"
      ]
     },
     "execution_count": 26,
     "metadata": {},
     "output_type": "execute_result"
    }
   ],
   "source": [
    "oldn = sum(df2['landing_page']=='old_page')\n",
    "oldn"
   ]
  },
  {
   "cell_type": "markdown",
   "metadata": {},
   "source": [
    "e. Simulate $n_{new}$ transactions with a conversion rate of $p_{new}$ under the null.  Store these $n_{new}$ 1's and 0's in **new_page_converted**."
   ]
  },
  {
   "cell_type": "code",
   "execution_count": 27,
   "metadata": {},
   "outputs": [],
   "source": [
    "new_page_converted = np.random.binomial(newn, new_mean)"
   ]
  },
  {
   "cell_type": "markdown",
   "metadata": {},
   "source": [
    "f. Simulate $n_{old}$ transactions with a conversion rate of $p_{old}$ under the null.  Store these $n_{old}$ 1's and 0's in **old_page_converted**."
   ]
  },
  {
   "cell_type": "code",
   "execution_count": 28,
   "metadata": {},
   "outputs": [],
   "source": [
    "old_page_converted = np.random.binomial(oldn, old_mean)"
   ]
  },
  {
   "cell_type": "markdown",
   "metadata": {},
   "source": [
    "g. Find $p_{new}$ - $p_{old}$ for your simulated values from part (e) and (f)."
   ]
  },
  {
   "cell_type": "code",
   "execution_count": 29,
   "metadata": {},
   "outputs": [
    {
     "data": {
      "text/plain": [
       "6.66279328072894e-05"
      ]
     },
     "execution_count": 29,
     "metadata": {},
     "output_type": "execute_result"
    }
   ],
   "source": [
    "# from e old_mean = old_page_converted/oldn\n",
    "# and f new_mean = new_page_converted/newn\n",
    "p_diff = (new_page_converted/newn) - (old_page_converted/oldn)\n",
    "p_diff"
   ]
  },
  {
   "cell_type": "markdown",
   "metadata": {},
   "source": [
    "h. Create 10,000 $p_{new}$ - $p_{old}$ values using the same simulation process you used in parts (a) through (g) above. Store all 10,000 values in a NumPy array called **p_diffs**."
   ]
  },
  {
   "cell_type": "code",
   "execution_count": 30,
   "metadata": {},
   "outputs": [
    {
     "data": {
      "text/plain": [
       "[-0.0008004837594368791,\n",
       " -0.0015230768363070218,\n",
       " -0.0007867200817822106,\n",
       " -0.0009862934077749103,\n",
       " -0.00018800010380409793,\n",
       " 0.0006997571049220802,\n",
       " 0.00038319251886467787,\n",
       " -0.0006628469828901806,\n",
       " -9.165436022140483e-05,\n",
       " 0.00041760171300135596,\n",
       " -0.0013235035103143084,\n",
       " 1.1573222188615562e-05,\n",
       " 0.00018361919287197825,\n",
       " 0.0006102932001667283,\n",
       " -0.002562234499234553,\n",
       " -0.0002292911367681033,\n",
       " -0.002376424850896522,\n",
       " -0.0017639411952637268,\n",
       " 0.0003969561965193602,\n",
       " -0.00044950997924281255,\n",
       " -0.0015712497080983545,\n",
       " -4.348148843005828e-05,\n",
       " -0.002871917246464614,\n",
       " 0.0014154683429648818,\n",
       " -0.0013097398326596399,\n",
       " -0.0008968295030195583,\n",
       " -0.0005114465286888276,\n",
       " -0.0014749039645156753,\n",
       " 0.0013741773100008764,\n",
       " -0.0003049913638687868,\n",
       " -0.00024993665325009906,\n",
       " -0.00015359090966741984,\n",
       " 0.00014920999873530016,\n",
       " -0.0014198492538970015,\n",
       " -0.00017423642614942947,\n",
       " -0.00014670907084007867,\n",
       " 0.0002593194199726617,\n",
       " -0.0005940285946168383,\n",
       " -0.00173641383995439,\n",
       " 0.00032125596941867673,\n",
       " -0.00042198262393347563,\n",
       " -0.0011101665066669403,\n",
       " -2.2835971948062528e-05,\n",
       " 0.0010920219180801521,\n",
       " 0.000266201258799989,\n",
       " 0.0012021313393175137,\n",
       " 0.00031437413059133557,\n",
       " 0.0003763106800373506,\n",
       " 0.00018361919287197825,\n",
       " 0.0005139474565840491,\n",
       " 0.0005827658448573914,\n",
       " 0.0014361138594468914,\n",
       " -0.00024305481442277177,\n",
       " -0.0002705821697321087,\n",
       " 0.0005896476836847186,\n",
       " -0.0009931752466022514,\n",
       " -1.595413312072136e-05,\n",
       " -0.0008624203088828941,\n",
       " 0.0003625470023826821,\n",
       " -0.0008211292759188887,\n",
       " -0.0018258777447097418,\n",
       " -0.0013923218985876645,\n",
       " -0.00018800010380409793,\n",
       " -0.00035316423566011945,\n",
       " 0.0003074922917640083,\n",
       " 0.0010782582404254837,\n",
       " -0.0006766106605448491,\n",
       " -0.0010275844407389156,\n",
       " -0.0008624203088828941,\n",
       " -0.0018396414223644103,\n",
       " -0.002280079107313829,\n",
       " -0.0019910418765657772,\n",
       " -0.0006628469828901806,\n",
       " -0.0007936019206095379,\n",
       " -9.165436022140483e-05,\n",
       " -0.003009554023011299,\n",
       " -0.0009381205359835776,\n",
       " 0.00019050103169931942,\n",
       " 0.00015609183756264133,\n",
       " -0.0014886676421703438,\n",
       " -0.001770823034091068,\n",
       " -0.00038069159096947025,\n",
       " 0.00010791896577129478,\n",
       " -0.000917475019501568,\n",
       " 0.0007479299767134268,\n",
       " 0.0003350196470733452,\n",
       " -0.00035316423566011945,\n",
       " 0.000266201258799989,\n",
       " -0.0009587660524655733,\n",
       " -0.0008968295030195583,\n",
       " -0.0007729564041275422,\n",
       " -0.001130812023148936,\n",
       " -0.0005802649169621699,\n",
       " 0.0012021313393175137,\n",
       " -0.00018800010380409793,\n",
       " -0.0003325187191781237,\n",
       " -0.0009725297301202418,\n",
       " 0.0007410481378860856,\n",
       " 0.0018146149949502949,\n",
       " 0.00012168264342596324,\n",
       " 0.0006859934272674117,\n",
       " -0.001316621671486981,\n",
       " 6.66279328072894e-05,\n",
       " 0.0006102932001667283,\n",
       " -9.165436022140483e-05,\n",
       " 0.0003625470023826821,\n",
       " -0.0009450023748109049,\n",
       " 0.0005070656177567079,\n",
       " -0.0003325187191781237,\n",
       " 0.0010025580133248002,\n",
       " -0.0011514575396309457,\n",
       " -0.0001673545873220883,\n",
       " 0.0007410481378860856,\n",
       " 0.00039007435769201904,\n",
       " -0.00031187320269611407,\n",
       " -0.0015299586751343491,\n",
       " 0.00032125596941867673,\n",
       " -0.0010344662795662568,\n",
       " -0.00031875504152345524,\n",
       " -0.000979411568947583,\n",
       " 0.00011480080459863595,\n",
       " -0.0015506041916163588,\n",
       " -0.0007316653711635368,\n",
       " 0.0006859934272674117,\n",
       " 4.691383361274393e-06,\n",
       " -0.0014267310927243287,\n",
       " -0.00024305481442277177,\n",
       " -0.00013982723201275138,\n",
       " -0.0014473766092063384,\n",
       " -0.0008348929535735572,\n",
       " -0.0003944552686241387,\n",
       " -0.0008968295030195583,\n",
       " -6.412700491206791e-05,\n",
       " 0.0004038380353466875,\n",
       " -0.00021552745911343485,\n",
       " -0.00044950997924281255,\n",
       " -0.00045639181807013984,\n",
       " 0.0003694288412100094,\n",
       " 0.0012778315664181972,\n",
       " -0.0009381205359835776,\n",
       " -0.0015299586751343491,\n",
       " -0.0005045646898614864,\n",
       " -0.0007523108876455326,\n",
       " -0.00035316423566011945,\n",
       " 0.0003006104529366671,\n",
       " -0.000889947664192231,\n",
       " -0.0015093131586523534,\n",
       " 8.727344928929903e-05,\n",
       " -0.0015712497080983545,\n",
       " 0.0004382472294833656,\n",
       " -2.1904554660528985e-06,\n",
       " -0.0018258777447097418,\n",
       " -0.0019291053271197622,\n",
       " 6.66279328072894e-05,\n",
       " -0.0019497508436017719,\n",
       " 0.0006791115884400706,\n",
       " -0.0007179016935088683,\n",
       " -0.0003600460744874606,\n",
       " -0.000614674111098848,\n",
       " 0.00020426470935398788,\n",
       " -0.00044950997924281255,\n",
       " 0.0008236302038140964,\n",
       " 0.0008580393979507744,\n",
       " -0.0006284377887535164,\n",
       " -0.001282212477350303,\n",
       " -0.00024305481442277177,\n",
       " -0.0017570593564363995,\n",
       " 0.00019738287052664671,\n",
       " -0.0008624203088828941,\n",
       " -0.0013028579938323126,\n",
       " -0.0005940285946168383,\n",
       " -0.0003738097521421291,\n",
       " 0.0009750306580154633,\n",
       " -0.0003325187191781237,\n",
       " -0.001282212477350303,\n",
       " -0.00011918171553074175,\n",
       " -0.0012065122502496195,\n",
       " 0.0003763106800373506,\n",
       " -0.0009312386971562364,\n",
       " 0.0005621203283753817,\n",
       " 0.0008580393979507744,\n",
       " 0.00020426470935398788,\n",
       " 0.00014920999873530016,\n",
       " -0.0010964028290122718,\n",
       " 9.415528811662632e-05,\n",
       " -0.00013982723201275138,\n",
       " -0.000614674111098848,\n",
       " -0.0009725297301202418,\n",
       " 1.1573222188615562e-05,\n",
       " -0.001068875473702935,\n",
       " 0.0011401947898714987,\n",
       " -0.0017020046458177257,\n",
       " -0.0012959761550049714,\n",
       " -0.0013647945432783137,\n",
       " 0.0007685754931954225,\n",
       " -0.0006559651440628533,\n",
       " -0.001282212477350303,\n",
       " -0.0001673545873220883,\n",
       " -0.0002292911367681033,\n",
       " -0.0028168625358459404,\n",
       " -0.0008693021477102214,\n",
       " 5.286425515262094e-05,\n",
       " 0.00045889274596536134,\n",
       " -0.0015299586751343491,\n",
       " -0.0010964028290122718,\n",
       " -5.724516608474062e-05,\n",
       " -0.0001673545873220883,\n",
       " 0.000968148819188136,\n",
       " -0.0008486566312282257,\n",
       " -0.0007867200817822106,\n",
       " -5.036332725739945e-05,\n",
       " -0.000828011114746216,\n",
       " -0.0019703963600837676,\n",
       " -0.0006697288217175218,\n",
       " -0.00173641383995439,\n",
       " 0.0009819124968428045,\n",
       " -0.0019359871659471034,\n",
       " 0.001270949727590856,\n",
       " -0.0001329453931854102,\n",
       " -0.0018534051000190788,\n",
       " 0.00022491022583598363,\n",
       " -0.0006628469828901806,\n",
       " 0.0005896476836847186,\n",
       " -0.00032563688035078253,\n",
       " -0.000855538470055553,\n",
       " 0.0003419014859006725,\n",
       " -0.0019428690047744307,\n",
       " 0.0012778315664181972,\n",
       " -0.00022240929794076214,\n",
       " -0.001585013385753023,\n",
       " 0.0004451290683106929,\n",
       " -0.00042198262393347563,\n",
       " -0.000979411568947583,\n",
       " 0.0005827658448573914,\n",
       " 0.0005690021672027229,\n",
       " -0.00031187320269611407,\n",
       " 0.00019738287052664671,\n",
       " -8.477252139407754e-05,\n",
       " -0.00011229987670341446,\n",
       " 0.0012021313393175137,\n",
       " -0.0011721030561129553,\n",
       " -0.0010275844407389156,\n",
       " 0.0003006104529366671,\n",
       " 0.00024555574231799326,\n",
       " -0.000917475019501568,\n",
       " -0.0014611402868610068,\n",
       " 9.415528811662632e-05,\n",
       " -0.00027746400855944986,\n",
       " -0.0008968295030195583,\n",
       " -0.0009037113418468995,\n",
       " 0.00039007435769201904,\n",
       " 0.0010300853686341371,\n",
       " 0.00017673735404465096,\n",
       " -0.0004701554957248083,\n",
       " -0.0012133940890769607,\n",
       " -0.00027746400855944986,\n",
       " 0.00032125596941867673,\n",
       " -0.0009381205359835776,\n",
       " 0.000328137808246004,\n",
       " -0.00022240929794076214,\n",
       " -0.0007385472099908641,\n",
       " 0.0006447023943034064,\n",
       " 0.0006997571049220802,\n",
       " 0.0004244835518286971,\n",
       " -0.0012340396055589564,\n",
       " -0.000951884213638246,\n",
       " -2.1904554660528985e-06,\n",
       " 0.0010644945627708152,\n",
       " 3.910057749795248e-05,\n",
       " 0.0006997571049220802,\n",
       " -0.0010138207630842472,\n",
       " -0.0004908010122068179,\n",
       " -0.00047703733455214947,\n",
       " -0.000889947664192231,\n",
       " -0.0004357463015881441,\n",
       " -0.001708886484645053,\n",
       " -0.00025681849207744023,\n",
       " -0.0023626611732418534,\n",
       " -0.0011101665066669403,\n",
       " 0.0003006104529366671,\n",
       " -0.0006353196275808437,\n",
       " -0.0015299586751343491,\n",
       " 0.0004451290683106929,\n",
       " -0.0014749039645156753,\n",
       " -0.0010207026019115883,\n",
       " 0.0006309387166487379,\n",
       " 0.00047953826244737097,\n",
       " -0.0004701554957248083,\n",
       " -0.0006972561770268587,\n",
       " -0.0005527375616528329,\n",
       " -0.0007179016935088683,\n",
       " 4.691383361274393e-06,\n",
       " 8.039161046195786e-05,\n",
       " 0.00015609183756264133,\n",
       " -0.0005458557228254918,\n",
       " -9.072294293394068e-06,\n",
       " -0.0015093131586523534,\n",
       " -0.000889947664192231,\n",
       " -0.0007867200817822106,\n",
       " -2.2835971948062528e-05,\n",
       " 0.00014920999873530016,\n",
       " -0.0003049913638687868,\n",
       " -0.0003738097521421291,\n",
       " 0.001147076628698826,\n",
       " -0.0008486566312282257,\n",
       " 0.0002386739034906521,\n",
       " -0.0011858667337676237,\n",
       " 4.5982416325279774e-05,\n",
       " -0.0022731972684865015,\n",
       " -0.0008142474370915476,\n",
       " -0.0007110198546815272,\n",
       " -7.789068256673637e-05,\n",
       " -0.001192748572594951,\n",
       " 3.910057749795248e-05,\n",
       " -0.00013982723201275138,\n",
       " -0.0003669279133147879,\n",
       " 0.0010644945627708152,\n",
       " -0.0013097398326596399,\n",
       " 0.0006997571049220802,\n",
       " -0.002809980697018599,\n",
       " 0.002365162101137061,\n",
       " -7.100884373940908e-05,\n",
       " -0.00047703733455214947,\n",
       " -0.00042198262393347563,\n",
       " -0.0019428690047744307,\n",
       " 0.0004382472294833656,\n",
       " -0.0007867200817822106,\n",
       " 0.0007685754931954225,\n",
       " -0.0002292911367681033,\n",
       " -0.00011229987670341446,\n",
       " -0.0005596194004801602,\n",
       " 0.00021114654818131517,\n",
       " -0.00031875504152345524,\n",
       " -0.0002637003309047675,\n",
       " -1.595413312072136e-05,\n",
       " -0.0009381205359835776,\n",
       " -3.659964960273099e-05,\n",
       " 0.00014232815990797287,\n",
       " -1.595413312072136e-05,\n",
       " -0.00027746400855944986,\n",
       " 0.0009750306580154633,\n",
       " -0.0002981095250414456,\n",
       " 3.221873867061131e-05,\n",
       " 0.0008373938814687787,\n",
       " 0.0011264311122168302,\n",
       " -0.00012606355435808292,\n",
       " 9.415528811662632e-05,\n",
       " 0.0006309387166487379,\n",
       " 0.0012296586946268506,\n",
       " -0.0008830658253648899,\n",
       " 0.0013810591488282037,\n",
       " -0.0016538317740263792,\n",
       " -1.595413312072136e-05,\n",
       " -0.0012133940890769607,\n",
       " -0.00038069159096947025,\n",
       " -0.0004288644627608029,\n",
       " -0.0006628469828901806,\n",
       " 0.0001698555152173098,\n",
       " -0.0002705821697321087,\n",
       " 0.0004038380353466875,\n",
       " -0.0018671687776737472,\n",
       " -0.000828011114746216,\n",
       " -0.0002017637814587664,\n",
       " 0.0003694288412100094,\n",
       " -0.00038757342979679754,\n",
       " -0.00024993665325009906,\n",
       " -6.412700491206791e-05,\n",
       " -0.0014817858033430165,\n",
       " -0.0011789848949402826,\n",
       " -0.000979411568947583,\n",
       " -0.000917475019501568,\n",
       " -0.001495549480997685,\n",
       " -0.00028434584738677715,\n",
       " -0.00017423642614942947,\n",
       " -0.0006215559499261752,\n",
       " -0.0005320920451708233,\n",
       " 0.00017673735404465096,\n",
       " -0.0009450023748109049,\n",
       " 0.00039007435769201904,\n",
       " -0.0011858667337676237,\n",
       " -0.0012615669608683072,\n",
       " 0.0012503042111088464,\n",
       " 0.0009268577862241167,\n",
       " 0.0018765515443963099,\n",
       " -7.789068256673637e-05,\n",
       " -0.00042198262393347563,\n",
       " 7.350977163463057e-05,\n",
       " -0.0011376938619762772,\n",
       " -0.0005045646898614864,\n",
       " -0.0009243568583288952,\n",
       " -0.0011858667337676237,\n",
       " 0.0005139474565840491,\n",
       " 0.00015609183756264133,\n",
       " -0.0006697288217175218,\n",
       " 0.0014085865041375545,\n",
       " -0.0011376938619762772,\n",
       " 0.0005758840060300502,\n",
       " -0.0008142474370915476,\n",
       " -0.00028434584738677715,\n",
       " -0.0008486566312282257,\n",
       " -0.00024305481442277177,\n",
       " 1.1573222188615562e-05,\n",
       " 7.350977163463057e-05,\n",
       " -2.2835971948062528e-05,\n",
       " -0.00011918171553074175,\n",
       " 0.0007479299767134268,\n",
       " -0.00035316423566011945,\n",
       " 0.0002386739034906521,\n",
       " -2.971781077538982e-05,\n",
       " 0.0006997571049220802,\n",
       " -0.0007591927264728737,\n",
       " -0.001585013385753023,\n",
       " -0.001984160037738436,\n",
       " -0.0015437223527890176,\n",
       " -0.00035316423566011945,\n",
       " -0.0005596194004801602,\n",
       " -0.0009931752466022514,\n",
       " -0.0005940285946168383,\n",
       " -9.165436022140483e-05,\n",
       " -0.0006422014664081849,\n",
       " -0.0008968295030195583,\n",
       " -6.412700491206791e-05,\n",
       " 0.00045201090713803405,\n",
       " 0.0004244835518286971,\n",
       " -0.0025759981768892215,\n",
       " 0.00039007435769201904,\n",
       " 0.00016297367638996862,\n",
       " -0.00024993665325009906,\n",
       " 0.0008029846873321006,\n",
       " -0.003023317700665981,\n",
       " 0.0001698555152173098,\n",
       " -0.00034628239683279216,\n",
       " 0.00022491022583598363,\n",
       " -0.0018671687776737472,\n",
       " 0.0005139474565840491,\n",
       " -0.0005114465286888276,\n",
       " -4.348148843005828e-05,\n",
       " 1.8455061015942853e-05,\n",
       " -0.0011789848949402826,\n",
       " 0.0005896476836847186,\n",
       " -0.0010069389242569199,\n",
       " -0.001708886484645053,\n",
       " 0.00048642010127469826,\n",
       " -0.0003944552686241387,\n",
       " -0.0005596194004801602,\n",
       " -0.000339400558005451,\n",
       " 0.0010300853686341371,\n",
       " 0.0005139474565840491,\n",
       " -0.0004976828510341591,\n",
       " -0.0006766106605448491,\n",
       " -0.0005183283675161549,\n",
       " -0.0005114465286888276,\n",
       " -0.00143361293155167,\n",
       " 0.0010094398521521414,\n",
       " -0.000766074565300201,\n",
       " 0.0002799649364546575,\n",
       " 0.0007341662990587583,\n",
       " -0.0005940285946168383,\n",
       " -5.036332725739945e-05,\n",
       " -0.0010619936348755937,\n",
       " -0.0018258777447097418,\n",
       " -0.0008211292759188887,\n",
       " -0.0005527375616528329,\n",
       " -0.0008417747924008845,\n",
       " 0.0007410481378860856,\n",
       " -0.0012340396055589564,\n",
       " -0.000614674111098848,\n",
       " -0.0011652212172856141,\n",
       " -0.0012615669608683072,\n",
       " -0.00028434584738677715,\n",
       " -0.000979411568947583,\n",
       " -0.0002637003309047675,\n",
       " -0.0016675954516810476,\n",
       " -9.072294293394068e-06,\n",
       " -0.0002292911367681033,\n",
       " -0.00044950997924281255,\n",
       " 0.0006722297496127433,\n",
       " -0.0003325187191781237,\n",
       " 0.0003419014859006725,\n",
       " -0.000766074565300201,\n",
       " -5.724516608474062e-05,\n",
       " -0.0005733830781348287,\n",
       " 0.0006171750389940694,\n",
       " 0.00035566516355534095,\n",
       " -0.00013982723201275138,\n",
       " -0.00045639181807013984,\n",
       " -0.000766074565300201,\n",
       " -0.0015368405139616903,\n",
       " -0.0006628469828901806,\n",
       " 0.00016297367638996862,\n",
       " -0.0008211292759188887,\n",
       " -9.072294293394068e-06,\n",
       " -0.0013372671879689768,\n",
       " 0.000541474811893386,\n",
       " -0.0008761839865375626,\n",
       " -0.0005389738839981645,\n",
       " -0.0017226501622997215,\n",
       " -0.0018258777447097418,\n",
       " -0.0007316653711635368,\n",
       " -0.001743295678781731,\n",
       " 0.0006997571049220802,\n",
       " -0.00024993665325009906,\n",
       " -0.0012340396055589564,\n",
       " -4.348148843005828e-05,\n",
       " -0.000951884213638246,\n",
       " -0.0006215559499261752,\n",
       " -0.00038069159096947025,\n",
       " -0.001316621671486981,\n",
       " -9.072294293394068e-06,\n",
       " -9.072294293394068e-06,\n",
       " 0.0002317920646633248,\n",
       " 7.350977163463057e-05,\n",
       " 0.00035566516355534095,\n",
       " -0.000339400558005451,\n",
       " 0.0012227768557995095,\n",
       " -0.0011376938619762772,\n",
       " 0.00014232815990797287,\n",
       " 0.0005621203283753817,\n",
       " -0.000614674111098848,\n",
       " -0.0016882409681630434,\n",
       " 0.0009475033027061264,\n",
       " -0.00047703733455214947,\n",
       " -0.0001673545873220883,\n",
       " -0.00040821894627880717,\n",
       " 0.00021802838700865634,\n",
       " -0.0023007246237958384,\n",
       " -0.0012133940890769607,\n",
       " 5.286425515262094e-05,\n",
       " 0.0006378205554760652,\n",
       " -0.00027746400855944986,\n",
       " -0.0002292911367681033,\n",
       " -0.0018878142941557569,\n",
       " 0.001181485822835504,\n",
       " -0.00014670907084007867,\n",
       " -0.0016607136128537064,\n",
       " 0.00012168264342596324,\n",
       " -0.0006559651440628533,\n",
       " 6.66279328072894e-05,\n",
       " -0.000889947664192231,\n",
       " 0.0002386739034906521,\n",
       " -0.0012478032832136249,\n",
       " 0.0003694288412100094,\n",
       " 0.0007892210096774321,\n",
       " -0.00017423642614942947,\n",
       " -0.001674477290508375,\n",
       " 0.0002799649364546575,\n",
       " -0.0010275844407389156,\n",
       " -0.0010482299572209253,\n",
       " -4.348148843005828e-05,\n",
       " -0.0007385472099908641,\n",
       " -0.0014267310927243287,\n",
       " -0.0015093131586523534,\n",
       " -0.000704138015854186,\n",
       " -0.0013923218985876645,\n",
       " 0.00038319251886467787,\n",
       " -0.0005389738839981645,\n",
       " -0.0011101665066669403,\n",
       " 0.000692875266094739,\n",
       " -0.0007179016935088683,\n",
       " 0.0018903152220509783,\n",
       " -0.0014886676421703438,\n",
       " -0.00035316423566011945,\n",
       " 0.00021802838700865634,\n",
       " 0.00014920999873530016,\n",
       " -0.0005733830781348287,\n",
       " -0.0003600460744874606,\n",
       " -0.00032563688035078253,\n",
       " -0.001495549480997685,\n",
       " 0.0013672954711735352,\n",
       " -0.0014886676421703438,\n",
       " 0.0003074922917640083,\n",
       " -0.00031187320269611407,\n",
       " -0.0013854400597603234,\n",
       " -0.0006284377887535164,\n",
       " -0.0017501775176090584,\n",
       " -0.0011376938619762772,\n",
       " -0.0002705821697321087,\n",
       " -0.0019635145212564403,\n",
       " -5.036332725739945e-05,\n",
       " 0.0011883676616628452,\n",
       " 0.00021802838700865634,\n",
       " -0.00024993665325009906,\n",
       " 2.5336899843284022e-05,\n",
       " -0.00025681849207744023,\n",
       " -0.0007523108876455326,\n",
       " -0.0006215559499261752,\n",
       " 0.0019935428044609987,\n",
       " -0.0005665012393075014,\n",
       " 0.0002317920646633248,\n",
       " -0.0003669279133147879,\n",
       " -0.00015359090966741984,\n",
       " -0.000614674111098848,\n",
       " 0.0007272844602314171,\n",
       " 0.00012168264342596324,\n",
       " 0.00016297367638996862,\n",
       " 0.0007892210096774321,\n",
       " -0.0007729564041275422,\n",
       " -2.1904554660528985e-06,\n",
       " -0.0005458557228254918,\n",
       " -0.001254685122040966,\n",
       " -0.0002292911367681033,\n",
       " -0.0014404947703789972,\n",
       " -0.00042198262393347563,\n",
       " -0.0007316653711635368,\n",
       " -0.0015437223527890176,\n",
       " 0.0004726564236200298,\n",
       " -9.072294293394068e-06,\n",
       " -0.0005045646898614864,\n",
       " -0.0008073655982642064,\n",
       " 0.0009612669803607948,\n",
       " -0.001585013385753023,\n",
       " -0.0004426281404154714,\n",
       " -0.0011514575396309457,\n",
       " -0.00032563688035078253,\n",
       " -0.0020323329095297826,\n",
       " -0.0004908010122068179,\n",
       " -0.001681359129335716,\n",
       " 0.0006791115884400706,\n",
       " 0.0004038380353466875,\n",
       " -0.0004357463015881441,\n",
       " 0.00034878332472801366,\n",
       " 0.0004933019401020394,\n",
       " -0.0005802649169621699,\n",
       " 0.0006515842331307337,\n",
       " -0.00034628239683279216,\n",
       " 2.5336899843284022e-05,\n",
       " -0.0014817858033430165,\n",
       " -0.0006009104334441795,\n",
       " -4.348148843005828e-05,\n",
       " 0.001608159830130254,\n",
       " -0.001192748572594951,\n",
       " -0.001192748572594951,\n",
       " 0.0008029846873321006,\n",
       " 0.0007754573320227637,\n",
       " -0.0012890943161776441,\n",
       " -0.0012615669608683072,\n",
       " -0.001585013385753023,\n",
       " -1.595413312072136e-05,\n",
       " -0.0003738097521421291,\n",
       " 0.0001285644822533044,\n",
       " -3.659964960273099e-05,\n",
       " -0.0021562060084218126,\n",
       " -0.0040349480082841754,\n",
       " 0.0009406214638787852,\n",
       " -0.002507179788615879,\n",
       " -0.001220275927904288,\n",
       " -0.0002292911367681033,\n",
       " -0.0002981095250414456,\n",
       " -0.0003600460744874606,\n",
       " 0.0003350196470733452,\n",
       " -0.0005045646898614864,\n",
       " -0.0003600460744874606,\n",
       " -0.0016538317740263792,\n",
       " -0.00031187320269611407,\n",
       " 0.0005690021672027229,\n",
       " 0.00020426470935398788,\n",
       " -0.0016951228069903845,\n",
       " 0.0005896476836847186,\n",
       " 0.0007066389437494075,\n",
       " -0.000401337107451466,\n",
       " -0.00018800010380409793,\n",
       " -0.0021217968142851346,\n",
       " 0.0001698555152173098,\n",
       " 0.0008305120426414375,\n",
       " -0.00011918171553074175,\n",
       " -0.001068875473702935,\n",
       " -0.0006766106605448491,\n",
       " -0.0005045646898614864,\n",
       " 0.0008649212367781156,\n",
       " -0.0010138207630842472,\n",
       " 5.9746093979948234e-05,\n",
       " -0.0014886676421703438,\n",
       " 0.0008718030756054429,\n",
       " 2.5336899843284022e-05,\n",
       " -0.00019488194263142522,\n",
       " -0.00013982723201275138,\n",
       " 0.0002386739034906521,\n",
       " 0.00034878332472801366,\n",
       " -0.0005114465286888276,\n",
       " 0.0002730830976273302,\n",
       " -0.001220275927904288,\n",
       " -0.00034628239683279216,\n",
       " -0.00010541803787607329,\n",
       " 0.00014920999873530016,\n",
       " 0.00010103712694396749,\n",
       " 0.0009543851415334675,\n",
       " -2.1904554660528985e-06,\n",
       " -0.0005940285946168383,\n",
       " -0.000704138015854186,\n",
       " 0.0001698555152173098,\n",
       " 0.0005690021672027229,\n",
       " -0.0015093131586523534,\n",
       " -0.0012065122502496195,\n",
       " 0.000266201258799989,\n",
       " 0.00018361919287197825,\n",
       " 0.00012168264342596324,\n",
       " -0.0006353196275808437,\n",
       " -0.0015781315469256957,\n",
       " 0.0011264311122168302,\n",
       " -0.0008624203088828941,\n",
       " -0.0007936019206095379,\n",
       " 0.00011480080459863595,\n",
       " -0.0008142474370915476,\n",
       " 0.0006447023943034064,\n",
       " -0.0010069389242569199,\n",
       " 0.0011057855957348206,\n",
       " -0.0014473766092063384,\n",
       " -0.0002981095250414456,\n",
       " 0.0005070656177567079,\n",
       " -0.0004288644627608029,\n",
       " 0.00019738287052664671,\n",
       " -0.0003325187191781237,\n",
       " 0.00018361919287197825,\n",
       " -0.00012606355435808292,\n",
       " -0.00048391917337947676,\n",
       " -0.0011996304114222922,\n",
       " -0.0011652212172856141,\n",
       " -0.000614674111098848,\n",
       " -0.0009037113418468995,\n",
       " -0.0009656478912929145,\n",
       " 0.00038319251886467787,\n",
       " -0.000401337107451466,\n",
       " 0.0011333129510441575,\n",
       " -0.0009312386971562364,\n",
       " -0.00038757342979679754,\n",
       " -0.00035316423566011945,\n",
       " 0.00035566516355534095,\n",
       " -0.001220275927904288,\n",
       " 0.00014232815990797287,\n",
       " -0.0005733830781348287,\n",
       " -0.0022456699131771507,\n",
       " -0.0019703963600837676,\n",
       " -0.0007936019206095379,\n",
       " -0.00042198262393347563,\n",
       " 0.0005277111342387175,\n",
       " 7.350977163463057e-05,\n",
       " -0.0008348929535735572,\n",
       " 0.001057612723943488,\n",
       " -0.0002017637814587664,\n",
       " -2.2835971948062528e-05,\n",
       " -0.0002637003309047675,\n",
       " -0.0024934161109612107,\n",
       " -0.0013303853491416495,\n",
       " -0.0006077922722715068,\n",
       " -0.0012065122502496195,\n",
       " 0.0002386739034906521,\n",
       " -0.0007179016935088683,\n",
       " -0.0005871467557894972,\n",
       " 0.0011746039840081768,\n",
       " 0.00035566516355534095,\n",
       " 4.5982416325279774e-05,\n",
       " -0.001495549480997685,\n",
       " -0.0002017637814587664,\n",
       " -0.000951884213638246,\n",
       " -0.00031187320269611407,\n",
       " 0.0006171750389940694,\n",
       " -0.00021552745911343485,\n",
       " -0.00031875504152345524,\n",
       " -0.0002017637814587664,\n",
       " -0.00010541803787607329,\n",
       " -0.0013028579938323126,\n",
       " 0.0007479299767134268,\n",
       " 0.0007892210096774321,\n",
       " -0.0009862934077749103,\n",
       " 0.0007410481378860856,\n",
       " -0.0009037113418468995,\n",
       " -0.00042198262393347563,\n",
       " -0.00013982723201275138,\n",
       " -0.0008486566312282257,\n",
       " -0.0008004837594368791,\n",
       " 6.66279328072894e-05,\n",
       " -0.0006009104334441795,\n",
       " -0.000828011114746216,\n",
       " -0.0007729564041275422,\n",
       " -0.0010069389242569199,\n",
       " -0.001743295678781731,\n",
       " -7.100884373940908e-05,\n",
       " -0.0008142474370915476,\n",
       " -0.0015093131586523534,\n",
       " 0.000754811815540754,\n",
       " -0.0005596194004801602,\n",
       " -0.0011032846678395991,\n",
       " -0.0004357463015881441,\n",
       " 0.00041760171300135596,\n",
       " 0.00011480080459863595,\n",
       " 6.66279328072894e-05,\n",
       " -0.001674477290508375,\n",
       " 0.0004933019401020394,\n",
       " 0.0002730830976273302,\n",
       " -0.000614674111098848,\n",
       " -7.789068256673637e-05,\n",
       " 0.000328137808246004,\n",
       " 0.0002937286141093398,\n",
       " -0.0010551117960482664,\n",
       " -0.0006834924993721903,\n",
       " -8.477252139407754e-05,\n",
       " -0.00186028693884642,\n",
       " 0.0005621203283753817,\n",
       " -0.0007110198546815272,\n",
       " 0.0002730830976273302,\n",
       " 0.00017673735404465096,\n",
       " 0.0004933019401020394,\n",
       " -0.0010482299572209253,\n",
       " 0.00045889274596536134,\n",
       " -0.0006972561770268587,\n",
       " -0.0016538317740263792,\n",
       " -0.001646949935199038,\n",
       " -0.00012606355435808292,\n",
       " 0.0016425690242669322,\n",
       " 0.00017673735404465096,\n",
       " -6.412700491206791e-05,\n",
       " 2.5336899843284022e-05,\n",
       " -0.0002912276862141183,\n",
       " 0.00021114654818131517,\n",
       " -0.0010551117960482664,\n",
       " -0.00022240929794076214,\n",
       " -0.00031187320269611407,\n",
       " -0.0005665012393075014,\n",
       " -0.0008142474370915476,\n",
       " -0.00024305481442277177,\n",
       " -0.001254685122040966,\n",
       " -0.00024993665325009906,\n",
       " 0.0009130941085694483,\n",
       " -0.0015368405139616903,\n",
       " -0.0005320920451708233,\n",
       " 0.0008373938814687787,\n",
       " 0.0004933019401020394,\n",
       " 0.0008511575591234471,\n",
       " 0.000328137808246004,\n",
       " -0.0009381205359835776,\n",
       " 0.0007066389437494075,\n",
       " 0.0004382472294833656,\n",
       " -0.0004908010122068179,\n",
       " -0.0005940285946168383,\n",
       " 0.0008098665261594279,\n",
       " -0.0005596194004801602,\n",
       " 0.00039007435769201904,\n",
       " -0.00025681849207744023,\n",
       " 0.0008649212367781156,\n",
       " -0.0013235035103143084,\n",
       " -0.0010826391513576034,\n",
       " -0.000704138015854186,\n",
       " 0.000844275720296106,\n",
       " -0.00047703733455214947,\n",
       " 0.00010791896577129478,\n",
       " -0.000889947664192231,\n",
       " 0.0010438490462888056,\n",
       " -0.0001329453931854102,\n",
       " -0.0022043788802131453,\n",
       " 0.0013879409876555449,\n",
       " -0.0009656478912929145,\n",
       " 0.00019738287052664671,\n",
       " -0.0004357463015881441,\n",
       " -0.0011445757008036045,\n",
       " -0.001282212477350303,\n",
       " -0.0005596194004801602,\n",
       " -2.971781077538982e-05,\n",
       " -0.0006215559499261752,\n",
       " 0.00024555574231799326,\n",
       " -0.0011996304114222922,\n",
       " 0.00021114654818131517,\n",
       " 0.0013260044382095298,\n",
       " -0.0011652212172856141,\n",
       " -0.0004288644627608029,\n",
       " -0.0003738097521421291,\n",
       " -0.0005527375616528329,\n",
       " 0.00019738287052664671,\n",
       " -0.0013579127044509864,\n",
       " -0.000339400558005451,\n",
       " 4.5982416325279774e-05,\n",
       " -0.0015437223527890176,\n",
       " -5.724516608474062e-05,\n",
       " 0.0009406214638787852,\n",
       " -0.00018800010380409793,\n",
       " 0.000720402621404076,\n",
       " -0.000525210206343496,\n",
       " 0.00014232815990797287,\n",
       " 0.00010791896577129478,\n",
       " -2.2835971948062528e-05,\n",
       " -0.0010069389242569199,\n",
       " -0.00011918171553074175,\n",
       " 0.00012168264342596324,\n",
       " -0.00012606355435808292,\n",
       " -0.001674477290508375,\n",
       " -0.0008830658253648899,\n",
       " 0.00022491022583598363,\n",
       " -0.0006972561770268587,\n",
       " 0.00012168264342596324,\n",
       " -0.0010138207630842472,\n",
       " -5.036332725739945e-05,\n",
       " -0.0008004837594368791,\n",
       " -0.0008761839865375626,\n",
       " -0.001316621671486981,\n",
       " -0.0006009104334441795,\n",
       " -0.00022240929794076214,\n",
       " -0.00048391917337947676,\n",
       " 0.0008786849144327841,\n",
       " -0.00028434584738677715,\n",
       " -0.0004357463015881441,\n",
       " 0.0007066389437494075,\n",
       " -0.001344149026796318,\n",
       " 0.00035566516355534095,\n",
       " -0.00027746400855944986,\n",
       " 0.0006240568778213967,\n",
       " 0.0007961028485047594,\n",
       " -0.0008830658253648899,\n",
       " -0.002741162308745257,\n",
       " -0.000951884213638246,\n",
       " -0.0016882409681630434,\n",
       " 0.0001354463210806317,\n",
       " -0.0006834924993721903,\n",
       " 0.0004657745847927025,\n",
       " -0.0005596194004801602,\n",
       " -0.000463273656897481,\n",
       " 0.0005758840060300502,\n",
       " -0.0006559651440628533,\n",
       " 7.350977163463057e-05,\n",
       " -0.0002912276862141183,\n",
       " -0.000917475019501568,\n",
       " -4.348148843005828e-05,\n",
       " 0.0004244835518286971,\n",
       " -0.0011032846678395991,\n",
       " 0.0002937286141093398,\n",
       " 0.0011264311122168302,\n",
       " 0.0006584660719580748,\n",
       " 0.0003006104529366671,\n",
       " -0.00042198262393347563,\n",
       " -0.0007385472099908641,\n",
       " 0.0005552384895480544,\n",
       " -0.0003944552686241387,\n",
       " -0.0015024313198250122,\n",
       " -0.0010344662795662568,\n",
       " -8.477252139407754e-05,\n",
       " 0.0007066389437494075,\n",
       " -0.0010207026019115883,\n",
       " -0.00020864562028609368,\n",
       " 0.00039007435769201904,\n",
       " -0.0008211292759188887,\n",
       " 0.0003625470023826821,\n",
       " -0.001406085576242333,\n",
       " -0.0017777048729183953,\n",
       " -0.0021562060084218126,\n",
       " 0.00020426470935398788,\n",
       " -0.00015359090966741984,\n",
       " 0.0010507308851161468,\n",
       " -0.0009243568583288952,\n",
       " 0.00021802838700865634,\n",
       " -0.001371676382105655,\n",
       " 0.00034878332472801366,\n",
       " -0.0006903743381995175,\n",
       " -0.0007179016935088683,\n",
       " -0.0019979237153931045,\n",
       " 4.5982416325279774e-05,\n",
       " -0.0011170483454942676,\n",
       " -0.000339400558005451,\n",
       " -9.072294293394068e-06,\n",
       " -0.00013982723201275138,\n",
       " -0.00024305481442277177,\n",
       " 0.0012503042111088464,\n",
       " -0.00041510078510613446,\n",
       " -0.0005045646898614864,\n",
       " 0.0006309387166487379,\n",
       " -0.0009243568583288952,\n",
       " -0.001585013385753023,\n",
       " -0.0017570593564363995,\n",
       " -0.0007385472099908641,\n",
       " 0.00014232815990797287,\n",
       " 5.286425515262094e-05,\n",
       " 0.00016297367638996862,\n",
       " -0.0013235035103143084,\n",
       " 0.0011264311122168302,\n",
       " -0.0010482299572209253,\n",
       " 0.0006653479107854021,\n",
       " -0.0005389738839981645,\n",
       " 0.0010920219180801521,\n",
       " -0.0006077922722715068,\n",
       " -0.0012753306385229757,\n",
       " 0.0008649212367781156,\n",
       " -0.00045639181807013984,\n",
       " -0.0008968295030195583,\n",
       " -0.0004908010122068179,\n",
       " -0.0004357463015881441,\n",
       " 0.0007754573320227637,\n",
       " -0.0002637003309047675,\n",
       " 0.0005277111342387175,\n",
       " 0.0009199759473967895,\n",
       " 0.0004313653906560244,\n",
       " 4.691383361274393e-06,\n",
       " -0.0013647945432783137,\n",
       " -0.00011918171553074175,\n",
       " -0.0009587660524655733,\n",
       " 0.00018361919287197825,\n",
       " -0.0009725297301202418,\n",
       " -0.0005871467557894972,\n",
       " -0.0006077922722715068,\n",
       " -0.002039214748357124,\n",
       " 0.0005552384895480544,\n",
       " -0.0006353196275808437,\n",
       " -0.0019703963600837676,\n",
       " -3.659964960273099e-05,\n",
       " ...]"
      ]
     },
     "execution_count": 30,
     "metadata": {},
     "output_type": "execute_result"
    }
   ],
   "source": [
    "p_diffs =[]\n",
    "for _ in range(10000):\n",
    "    new_page_converted = np.random.binomial(newn, new_mean)\n",
    "    new_page_converted = np.random.binomial(newn, new_mean)\n",
    "    p_diffs.append((new_page_converted/newn) - (old_page_converted/oldn))\n",
    "p_diffs"
   ]
  },
  {
   "cell_type": "markdown",
   "metadata": {},
   "source": [
    "i. Plot a histogram of the **p_diffs**.  Does this plot look like what you expected?  Use the matching problem in the classroom to assure you fully understand what was computed here."
   ]
  },
  {
   "cell_type": "code",
   "execution_count": 31,
   "metadata": {},
   "outputs": [
    {
     "data": {
      "image/png": "[encoded data removed]",
      "text/plain": [
       "<matplotlib.figure.Figure at 0x7ff25699bdd8>"
      ]
     },
     "metadata": {
      "needs_background": "light"
     },
     "output_type": "display_data"
    }
   ],
   "source": [
    "plt.hist(p_diffs);\n",
    "plt.axvline(x=p_diff, color=\"red\");"
   ]
  },
  {
   "cell_type": "markdown",
   "metadata": {},
   "source": [
    "j. What proportion of the **p_diffs** are greater than the actual difference observed in **ab_data.csv**?"
   ]
  },
  {
   "cell_type": "code",
   "execution_count": 32,
   "metadata": {},
   "outputs": [
    {
     "data": {
      "text/plain": [
       "-0.0015782389853555567"
      ]
     },
     "execution_count": 32,
     "metadata": {},
     "output_type": "execute_result"
    }
   ],
   "source": [
    "#difference in df2\n",
    "diff_df2 = df2[df2['group']=='treatment']['converted'].mean() - df2[df2['group']=='control']['converted'] .mean()\n",
    "diff_df2"
   ]
  },
  {
   "cell_type": "code",
   "execution_count": 33,
   "metadata": {},
   "outputs": [
    {
     "data": {
      "text/plain": [
       "0.92769999999999997"
      ]
     },
     "execution_count": 33,
     "metadata": {},
     "output_type": "execute_result"
    }
   ],
   "source": [
    "(p_diffs > diff_df2).mean()"
   ]
  },
  {
   "cell_type": "markdown",
   "metadata": {},
   "source": [
    "k. Please explain using the vocabulary you've learned in this course what you just computed in part **j.**  What is this value called in scientific studies?  What does this value mean in terms of whether or not there is a difference between the new and old pages?"
   ]
  },
  {
   "cell_type": "markdown",
   "metadata": {},
   "source": [
    "**Answer:** Since a large prportion of p_diffs are greater than the actual difference observed in ab_data csv. Also, We know that if p value is less than Type 1 error rate , we can reject the Null hypothesis. Since here null hypothesis is much greater than alpha value(0.05) at 0.97, it is significant and hence we fail to reject the null hypothesis. Null hypothesis which states that P(new) <= P(old) is true. Hence we can conclude that there is not much difference between new and old pages.\n"
   ]
  },
  {
   "cell_type": "markdown",
   "metadata": {},
   "source": [
    "l. We could also use a built-in to achieve similar results.  Though using the built-in might be easier to code, the above portions are a walkthrough of the ideas that are critical to correctly thinking about statistical significance. Fill in the below to calculate the number of conversions for each page, as well as the number of individuals who received each page. Let `n_old` and `n_new` refer the the number of rows associated with the old page and new pages, respectively."
   ]
  },
  {
   "cell_type": "code",
   "execution_count": 34,
   "metadata": {},
   "outputs": [
    {
     "name": "stderr",
     "output_type": "stream",
     "text": [
      "/opt/conda/lib/python3.6/site-packages/statsmodels/compat/pandas.py:56: FutureWarning: The pandas.core.datetools module is deprecated and will be removed in a future version. Please use the pandas.tseries module instead.\n",
      "  from pandas.core import datetools\n"
     ]
    },
    {
     "name": "stdout",
     "output_type": "stream",
     "text": [
      "17489 17264 145274 145310\n"
     ]
    }
   ],
   "source": [
    "import statsmodels.api as sm\n",
    "\n",
    "convert_old = df2[df2['group']=='control']['converted'].sum()\n",
    "convert_new = df2[df2['group']=='treatment']['converted'].sum()\n",
    "n_old = (df2.landing_page=='old_page').sum()\n",
    "n_new = (df2.group=='treatment').sum()\n",
    "print(convert_old, convert_new, n_old, n_new)"
   ]
  },
  {
   "cell_type": "markdown",
   "metadata": {},
   "source": [
    "m. Now use `stats.proportions_ztest` to compute your test statistic and p-value.  [Here](http://knowledgetack.com/python/statsmodels/proportions_ztest/) is a helpful link on using the built in."
   ]
  },
  {
   "cell_type": "code",
   "execution_count": 35,
   "metadata": {},
   "outputs": [
    {
     "data": {
      "text/plain": [
       "(-1.3109241984234394, 0.094941687240975514)"
      ]
     },
     "execution_count": 35,
     "metadata": {},
     "output_type": "execute_result"
    }
   ],
   "source": [
    "from statsmodels.stats.proportion import proportions_ztest\n",
    "stat, pval = proportions_ztest([convert_new, convert_old], [n_new, n_old], alternative ='smaller')\n",
    "stat, pval"
   ]
  },
  {
   "cell_type": "markdown",
   "metadata": {},
   "source": [
    "n. What do the z-score and p-value you computed in the previous question mean for the conversion rates of the old and new pages?  Do they agree with the findings in parts **j.** and **k.**?"
   ]
  },
  {
   "cell_type": "markdown",
   "metadata": {},
   "source": [
    "**Put your answer here.**: A result of -1.31 suggests that the ztest is significant with 96% accuracy, negative value corresponds to values which are smaller than mean. Hence 96% of conversion for treatment group is less than of controlled. \n",
    "P value is also 95% with means that we fail to reject the null hypothesis.\n",
    "Yes they agree with findings in **j and k.** "
   ]
  },
  {
   "cell_type": "markdown",
   "metadata": {},
   "source": [
    "<a id='regression'></a>\n",
    "### Part III - A regression approach\n",
    "\n",
    "`1.` In this final part, you will see that the result you achieved in the A/B test in Part II above can also be achieved by performing regression.<br><br> \n",
    "\n",
    "a. Since each row is either a conversion or no conversion, what type of regression should you be performing in this case?"
   ]
  },
  {
   "cell_type": "markdown",
   "metadata": {},
   "source": [
    "**Answer.** \n",
    "We should perform Logistic regression because:\n",
    "- this data has variables which are not directly affecting the output but are dependent on eachh other\n",
    "- it has two possible outcomes ie conversion or no conversion. So the probability can only be between 0 and 1\n",
    "- we have categorical depend variable, convert."
   ]
  },
  {
   "cell_type": "markdown",
   "metadata": {},
   "source": [
    "b. The goal is to use **statsmodels** to fit the regression model you specified in part **a.** to see if there is a significant difference in conversion based on which page a customer receives. However, you first need to create in df2 a column for the intercept, and create a dummy variable column for which page each user received.  Add an **intercept** column, as well as an **ab_page** column, which is 1 when an individual receives the **treatment** and 0 if **control**."
   ]
  },
  {
   "cell_type": "code",
   "execution_count": 36,
   "metadata": {},
   "outputs": [
    {
     "name": "stderr",
     "output_type": "stream",
     "text": [
      "/opt/conda/lib/python3.6/site-packages/pandas/core/frame.py:3140: SettingWithCopyWarning: \n",
      "A value is trying to be set on a copy of a slice from a DataFrame.\n",
      "Try using .loc[row_indexer,col_indexer] = value instead\n",
      "\n",
      "See the caveats in the documentation: http://pandas.pydata.org/pandas-docs/stable/indexing.html#indexing-view-versus-copy\n",
      "  self[k1] = value[k2]\n",
      "/opt/conda/lib/python3.6/site-packages/ipykernel_launcher.py:3: SettingWithCopyWarning: \n",
      "A value is trying to be set on a copy of a slice from a DataFrame.\n",
      "Try using .loc[row_indexer,col_indexer] = value instead\n",
      "\n",
      "See the caveats in the documentation: http://pandas.pydata.org/pandas-docs/stable/indexing.html#indexing-view-versus-copy\n",
      "  This is separate from the ipykernel package so we can avoid doing imports until\n",
      "/opt/conda/lib/python3.6/site-packages/ipykernel_launcher.py:4: SettingWithCopyWarning: \n",
      "A value is trying to be set on a copy of a slice from a DataFrame.\n",
      "Try using .loc[row_indexer,col_indexer] = value instead\n",
      "\n",
      "See the caveats in the documentation: http://pandas.pydata.org/pandas-docs/stable/indexing.html#indexing-view-versus-copy\n",
      "  after removing the cwd from sys.path.\n"
     ]
    }
   ],
   "source": [
    "df2[['control','treatment']] = pd.get_dummies(df2['group'])\n",
    "df2[['old_page','new_page']] = pd.get_dummies(df2['landing_page'])\n",
    "df2['ab_page'] = df2['treatment']\n",
    "df2['intercept'] = 1"
   ]
  },
  {
   "cell_type": "markdown",
   "metadata": {},
   "source": [
    "c. Use **statsmodels** to instantiate your regression model on the two columns you created in part b., then fit the model using the two columns you created in part **b.** to predict whether or not an individual converts. "
   ]
  },
  {
   "cell_type": "code",
   "execution_count": 37,
   "metadata": {},
   "outputs": [
    {
     "name": "stdout",
     "output_type": "stream",
     "text": [
      "Optimization terminated successfully.\n",
      "         Current function value: 0.366118\n",
      "         Iterations 6\n"
     ]
    }
   ],
   "source": [
    "lm = sm.Logit(df2['converted'],df2[['intercept','ab_page']])\n",
    "res = lm.fit()"
   ]
  },
  {
   "cell_type": "markdown",
   "metadata": {},
   "source": [
    "d. Provide the summary of your model below, and use it as necessary to answer the following questions."
   ]
  },
  {
   "cell_type": "code",
   "execution_count": 38,
   "metadata": {},
   "outputs": [
    {
     "data": {
      "text/html": [
       "<table class=\"simpletable\">\n",
       "<caption>Logit Regression Results</caption>\n",
       "<tr>\n",
       "  <th>Dep. Variable:</th>     <td>converted</td>    <th>  No. Observations:  </th>   <td>290584</td>   \n",
       "</tr>\n",
       "<tr>\n",
       "  <th>Model:</th>               <td>Logit</td>      <th>  Df Residuals:      </th>   <td>290582</td>   \n",
       "</tr>\n",
       "<tr>\n",
       "  <th>Method:</th>               <td>MLE</td>       <th>  Df Model:          </th>   <td>     1</td>   \n",
       "</tr>\n",
       "<tr>\n",
       "  <th>Date:</th>          <td>Thu, 06 Jun 2019</td> <th>  Pseudo R-squ.:     </th>  <td>8.077e-06</td> \n",
       "</tr>\n",
       "<tr>\n",
       "  <th>Time:</th>              <td>10:41:25</td>     <th>  Log-Likelihood:    </th> <td>-1.0639e+05</td>\n",
       "</tr>\n",
       "<tr>\n",
       "  <th>converged:</th>           <td>True</td>       <th>  LL-Null:           </th> <td>-1.0639e+05</td>\n",
       "</tr>\n",
       "<tr>\n",
       "  <th> </th>                      <td> </td>        <th>  LLR p-value:       </th>   <td>0.1899</td>   \n",
       "</tr>\n",
       "</table>\n",
       "<table class=\"simpletable\">\n",
       "<tr>\n",
       "      <td></td>         <th>coef</th>     <th>std err</th>      <th>z</th>      <th>P>|z|</th>  <th>[0.025</th>    <th>0.975]</th>  \n",
       "</tr>\n",
       "<tr>\n",
       "  <th>intercept</th> <td>   -1.9888</td> <td>    0.008</td> <td> -246.669</td> <td> 0.000</td> <td>   -2.005</td> <td>   -1.973</td>\n",
       "</tr>\n",
       "<tr>\n",
       "  <th>ab_page</th>   <td>   -0.0150</td> <td>    0.011</td> <td>   -1.311</td> <td> 0.190</td> <td>   -0.037</td> <td>    0.007</td>\n",
       "</tr>\n",
       "</table>"
      ],
      "text/plain": [
       "<class 'statsmodels.iolib.summary.Summary'>\n",
       "\"\"\"\n",
       "                           Logit Regression Results                           \n",
       "==============================================================================\n",
       "Dep. Variable:              converted   No. Observations:               290584\n",
       "Model:                          Logit   Df Residuals:                   290582\n",
       "Method:                           MLE   Df Model:                            1\n",
       "Date:                Thu, 06 Jun 2019   Pseudo R-squ.:               8.077e-06\n",
       "Time:                        10:41:25   Log-Likelihood:            -1.0639e+05\n",
       "converged:                       True   LL-Null:                   -1.0639e+05\n",
       "                                        LLR p-value:                    0.1899\n",
       "==============================================================================\n",
       "                 coef    std err          z      P>|z|      [0.025      0.975]\n",
       "------------------------------------------------------------------------------\n",
       "intercept     -1.9888      0.008   -246.669      0.000      -2.005      -1.973\n",
       "ab_page       -0.0150      0.011     -1.311      0.190      -0.037       0.007\n",
       "==============================================================================\n",
       "\"\"\""
      ]
     },
     "execution_count": 38,
     "metadata": {},
     "output_type": "execute_result"
    }
   ],
   "source": [
    "res.summary()"
   ]
  },
  {
   "cell_type": "markdown",
   "metadata": {},
   "source": [
    "e. What is the p-value associated with **ab_page**? Why does it differ from the value you found in **Part II**?"
   ]
  },
  {
   "cell_type": "markdown",
   "metadata": {},
   "source": [
    "**Answer.** P-value associated with ab_page is 0.19.\n",
    "Yes the p-values associated with ab_page in Part III differs from p value in Part II which was 0.97. This is  because A/B test is uni-directional test ie, one tailed whereas the regression testing is two-tailed test and doesnt specify the direction. Hence p -value is of bi-direction and to consider a single side, the result should be divided by 2 and subtracted by 1 ie, 1 -(0.19/2) = 0.905. This value seems comparable to the p-value obtained in A/B test.\n"
   ]
  },
  {
   "cell_type": "markdown",
   "metadata": {},
   "source": [
    "f. Now, you are considering other things that might influence whether or not an individual converts.  Discuss why it is a good idea to consider other factors to add into your regression model.  Are there any disadvantages to adding additional terms into your regression model?"
   ]
  },
  {
   "cell_type": "markdown",
   "metadata": {},
   "source": [
    "**Answer.** Yes there are other variables that might affect that conversion. But the rule to limiting number of variables is that if variables do not contribute very much to the variance in the dependent variable (total R2), it can be eliminated. As seen here, variable 'new_page' doesnt change the R-squared value and hence it can be eliminated. \n",
    "Having too many variables in model can lead to multicollinearity which leads to unstable results."
   ]
  },
  {
   "cell_type": "markdown",
   "metadata": {},
   "source": [
    "g. Now along with testing if the conversion rate changes for different pages, also add an effect based on which country a user lives in. You will need to read in the **countries.csv** dataset and merge together your datasets on the appropriate rows.  [Here](https://pandas.pydata.org/pandas-docs/stable/generated/pandas.DataFrame.join.html) are the docs for joining tables. \n",
    "\n",
    "Does it appear that country had an impact on conversion?  Don't forget to create dummy variables for these country columns \n",
    "- Provide the statistical output as well as a written response to answer this question."
   ]
  },
  {
   "cell_type": "code",
   "execution_count": 39,
   "metadata": {},
   "outputs": [
    {
     "data": {
      "text/html": [
       "<div>\n",
       "<style scoped>\n",
       "    .dataframe tbody tr th:only-of-type {\n",
       "        vertical-align: middle;\n",
       "    }\n",
       "\n",
       "    .dataframe tbody tr th {\n",
       "        vertical-align: top;\n",
       "    }\n",
       "\n",
       "    .dataframe thead th {\n",
       "        text-align: right;\n",
       "    }\n",
       "</style>\n",
       "<table border=\"1\" class=\"dataframe\">\n",
       "  <thead>\n",
       "    <tr style=\"text-align: right;\">\n",
       "      <th></th>\n",
       "      <th>user_id</th>\n",
       "      <th>country</th>\n",
       "    </tr>\n",
       "  </thead>\n",
       "  <tbody>\n",
       "    <tr>\n",
       "      <th>0</th>\n",
       "      <td>834778</td>\n",
       "      <td>UK</td>\n",
       "    </tr>\n",
       "    <tr>\n",
       "      <th>1</th>\n",
       "      <td>928468</td>\n",
       "      <td>US</td>\n",
       "    </tr>\n",
       "    <tr>\n",
       "      <th>2</th>\n",
       "      <td>822059</td>\n",
       "      <td>UK</td>\n",
       "    </tr>\n",
       "    <tr>\n",
       "      <th>3</th>\n",
       "      <td>711597</td>\n",
       "      <td>UK</td>\n",
       "    </tr>\n",
       "    <tr>\n",
       "      <th>4</th>\n",
       "      <td>710616</td>\n",
       "      <td>UK</td>\n",
       "    </tr>\n",
       "  </tbody>\n",
       "</table>\n",
       "</div>"
      ],
      "text/plain": [
       "   user_id country\n",
       "0   834778      UK\n",
       "1   928468      US\n",
       "2   822059      UK\n",
       "3   711597      UK\n",
       "4   710616      UK"
      ]
     },
     "execution_count": 39,
     "metadata": {},
     "output_type": "execute_result"
    }
   ],
   "source": [
    "dfc = pd.read_csv('countries.csv')\n",
    "dfc.head()"
   ]
  },
  {
   "cell_type": "code",
   "execution_count": 40,
   "metadata": {},
   "outputs": [
    {
     "data": {
      "text/html": [
       "<div>\n",
       "<style scoped>\n",
       "    .dataframe tbody tr th:only-of-type {\n",
       "        vertical-align: middle;\n",
       "    }\n",
       "\n",
       "    .dataframe tbody tr th {\n",
       "        vertical-align: top;\n",
       "    }\n",
       "\n",
       "    .dataframe thead th {\n",
       "        text-align: right;\n",
       "    }\n",
       "</style>\n",
       "<table border=\"1\" class=\"dataframe\">\n",
       "  <thead>\n",
       "    <tr style=\"text-align: right;\">\n",
       "      <th></th>\n",
       "      <th>user_id</th>\n",
       "      <th>timestamp</th>\n",
       "      <th>group</th>\n",
       "      <th>landing_page</th>\n",
       "      <th>converted</th>\n",
       "      <th>control</th>\n",
       "      <th>treatment</th>\n",
       "      <th>old_page</th>\n",
       "      <th>new_page</th>\n",
       "      <th>ab_page</th>\n",
       "      <th>intercept</th>\n",
       "      <th>country</th>\n",
       "    </tr>\n",
       "  </thead>\n",
       "  <tbody>\n",
       "    <tr>\n",
       "      <th>0</th>\n",
       "      <td>851104</td>\n",
       "      <td>2017-01-21 22:11:48.556739</td>\n",
       "      <td>control</td>\n",
       "      <td>old_page</td>\n",
       "      <td>0</td>\n",
       "      <td>1</td>\n",
       "      <td>0</td>\n",
       "      <td>0</td>\n",
       "      <td>1</td>\n",
       "      <td>0</td>\n",
       "      <td>1</td>\n",
       "      <td>US</td>\n",
       "    </tr>\n",
       "    <tr>\n",
       "      <th>1</th>\n",
       "      <td>804228</td>\n",
       "      <td>2017-01-12 08:01:45.159739</td>\n",
       "      <td>control</td>\n",
       "      <td>old_page</td>\n",
       "      <td>0</td>\n",
       "      <td>1</td>\n",
       "      <td>0</td>\n",
       "      <td>0</td>\n",
       "      <td>1</td>\n",
       "      <td>0</td>\n",
       "      <td>1</td>\n",
       "      <td>US</td>\n",
       "    </tr>\n",
       "    <tr>\n",
       "      <th>2</th>\n",
       "      <td>661590</td>\n",
       "      <td>2017-01-11 16:55:06.154213</td>\n",
       "      <td>treatment</td>\n",
       "      <td>new_page</td>\n",
       "      <td>0</td>\n",
       "      <td>0</td>\n",
       "      <td>1</td>\n",
       "      <td>1</td>\n",
       "      <td>0</td>\n",
       "      <td>1</td>\n",
       "      <td>1</td>\n",
       "      <td>US</td>\n",
       "    </tr>\n",
       "    <tr>\n",
       "      <th>3</th>\n",
       "      <td>853541</td>\n",
       "      <td>2017-01-08 18:28:03.143765</td>\n",
       "      <td>treatment</td>\n",
       "      <td>new_page</td>\n",
       "      <td>0</td>\n",
       "      <td>0</td>\n",
       "      <td>1</td>\n",
       "      <td>1</td>\n",
       "      <td>0</td>\n",
       "      <td>1</td>\n",
       "      <td>1</td>\n",
       "      <td>US</td>\n",
       "    </tr>\n",
       "    <tr>\n",
       "      <th>4</th>\n",
       "      <td>864975</td>\n",
       "      <td>2017-01-21 01:52:26.210827</td>\n",
       "      <td>control</td>\n",
       "      <td>old_page</td>\n",
       "      <td>1</td>\n",
       "      <td>1</td>\n",
       "      <td>0</td>\n",
       "      <td>0</td>\n",
       "      <td>1</td>\n",
       "      <td>0</td>\n",
       "      <td>1</td>\n",
       "      <td>US</td>\n",
       "    </tr>\n",
       "  </tbody>\n",
       "</table>\n",
       "</div>"
      ],
      "text/plain": [
       "   user_id                   timestamp      group landing_page  converted  \\\n",
       "0   851104  2017-01-21 22:11:48.556739    control     old_page          0   \n",
       "1   804228  2017-01-12 08:01:45.159739    control     old_page          0   \n",
       "2   661590  2017-01-11 16:55:06.154213  treatment     new_page          0   \n",
       "3   853541  2017-01-08 18:28:03.143765  treatment     new_page          0   \n",
       "4   864975  2017-01-21 01:52:26.210827    control     old_page          1   \n",
       "\n",
       "   control  treatment  old_page  new_page  ab_page  intercept country  \n",
       "0        1          0         0         1        0          1      US  \n",
       "1        1          0         0         1        0          1      US  \n",
       "2        0          1         1         0        1          1      US  \n",
       "3        0          1         1         0        1          1      US  \n",
       "4        1          0         0         1        0          1      US  "
      ]
     },
     "execution_count": 40,
     "metadata": {},
     "output_type": "execute_result"
    }
   ],
   "source": [
    "df3 = df2.merge(dfc, on ='user_id', how ='inner')\n",
    "df3.head()"
   ]
  },
  {
   "cell_type": "code",
   "execution_count": 41,
   "metadata": {},
   "outputs": [
    {
     "data": {
      "text/html": [
       "<div>\n",
       "<style scoped>\n",
       "    .dataframe tbody tr th:only-of-type {\n",
       "        vertical-align: middle;\n",
       "    }\n",
       "\n",
       "    .dataframe tbody tr th {\n",
       "        vertical-align: top;\n",
       "    }\n",
       "\n",
       "    .dataframe thead th {\n",
       "        text-align: right;\n",
       "    }\n",
       "</style>\n",
       "<table border=\"1\" class=\"dataframe\">\n",
       "  <thead>\n",
       "    <tr style=\"text-align: right;\">\n",
       "      <th></th>\n",
       "      <th>user_id</th>\n",
       "      <th>timestamp</th>\n",
       "      <th>group</th>\n",
       "      <th>landing_page</th>\n",
       "      <th>converted</th>\n",
       "      <th>control</th>\n",
       "      <th>treatment</th>\n",
       "      <th>old_page</th>\n",
       "      <th>new_page</th>\n",
       "      <th>ab_page</th>\n",
       "      <th>intercept</th>\n",
       "      <th>country</th>\n",
       "      <th>US</th>\n",
       "      <th>UK</th>\n",
       "      <th>CA</th>\n",
       "    </tr>\n",
       "  </thead>\n",
       "  <tbody>\n",
       "    <tr>\n",
       "      <th>0</th>\n",
       "      <td>851104</td>\n",
       "      <td>2017-01-21 22:11:48.556739</td>\n",
       "      <td>control</td>\n",
       "      <td>old_page</td>\n",
       "      <td>0</td>\n",
       "      <td>1</td>\n",
       "      <td>0</td>\n",
       "      <td>0</td>\n",
       "      <td>1</td>\n",
       "      <td>0</td>\n",
       "      <td>1</td>\n",
       "      <td>US</td>\n",
       "      <td>0</td>\n",
       "      <td>0</td>\n",
       "      <td>1</td>\n",
       "    </tr>\n",
       "    <tr>\n",
       "      <th>1</th>\n",
       "      <td>804228</td>\n",
       "      <td>2017-01-12 08:01:45.159739</td>\n",
       "      <td>control</td>\n",
       "      <td>old_page</td>\n",
       "      <td>0</td>\n",
       "      <td>1</td>\n",
       "      <td>0</td>\n",
       "      <td>0</td>\n",
       "      <td>1</td>\n",
       "      <td>0</td>\n",
       "      <td>1</td>\n",
       "      <td>US</td>\n",
       "      <td>0</td>\n",
       "      <td>0</td>\n",
       "      <td>1</td>\n",
       "    </tr>\n",
       "    <tr>\n",
       "      <th>2</th>\n",
       "      <td>661590</td>\n",
       "      <td>2017-01-11 16:55:06.154213</td>\n",
       "      <td>treatment</td>\n",
       "      <td>new_page</td>\n",
       "      <td>0</td>\n",
       "      <td>0</td>\n",
       "      <td>1</td>\n",
       "      <td>1</td>\n",
       "      <td>0</td>\n",
       "      <td>1</td>\n",
       "      <td>1</td>\n",
       "      <td>US</td>\n",
       "      <td>0</td>\n",
       "      <td>0</td>\n",
       "      <td>1</td>\n",
       "    </tr>\n",
       "    <tr>\n",
       "      <th>3</th>\n",
       "      <td>853541</td>\n",
       "      <td>2017-01-08 18:28:03.143765</td>\n",
       "      <td>treatment</td>\n",
       "      <td>new_page</td>\n",
       "      <td>0</td>\n",
       "      <td>0</td>\n",
       "      <td>1</td>\n",
       "      <td>1</td>\n",
       "      <td>0</td>\n",
       "      <td>1</td>\n",
       "      <td>1</td>\n",
       "      <td>US</td>\n",
       "      <td>0</td>\n",
       "      <td>0</td>\n",
       "      <td>1</td>\n",
       "    </tr>\n",
       "    <tr>\n",
       "      <th>4</th>\n",
       "      <td>864975</td>\n",
       "      <td>2017-01-21 01:52:26.210827</td>\n",
       "      <td>control</td>\n",
       "      <td>old_page</td>\n",
       "      <td>1</td>\n",
       "      <td>1</td>\n",
       "      <td>0</td>\n",
       "      <td>0</td>\n",
       "      <td>1</td>\n",
       "      <td>0</td>\n",
       "      <td>1</td>\n",
       "      <td>US</td>\n",
       "      <td>0</td>\n",
       "      <td>0</td>\n",
       "      <td>1</td>\n",
       "    </tr>\n",
       "  </tbody>\n",
       "</table>\n",
       "</div>"
      ],
      "text/plain": [
       "   user_id                   timestamp      group landing_page  converted  \\\n",
       "0   851104  2017-01-21 22:11:48.556739    control     old_page          0   \n",
       "1   804228  2017-01-12 08:01:45.159739    control     old_page          0   \n",
       "2   661590  2017-01-11 16:55:06.154213  treatment     new_page          0   \n",
       "3   853541  2017-01-08 18:28:03.143765  treatment     new_page          0   \n",
       "4   864975  2017-01-21 01:52:26.210827    control     old_page          1   \n",
       "\n",
       "   control  treatment  old_page  new_page  ab_page  intercept country  US  UK  \\\n",
       "0        1          0         0         1        0          1      US   0   0   \n",
       "1        1          0         0         1        0          1      US   0   0   \n",
       "2        0          1         1         0        1          1      US   0   0   \n",
       "3        0          1         1         0        1          1      US   0   0   \n",
       "4        1          0         0         1        0          1      US   0   0   \n",
       "\n",
       "   CA  \n",
       "0   1  \n",
       "1   1  \n",
       "2   1  \n",
       "3   1  \n",
       "4   1  "
      ]
     },
     "execution_count": 41,
     "metadata": {},
     "output_type": "execute_result"
    }
   ],
   "source": [
    "df3[['US','UK','CA']] = pd.get_dummies(df3['country'])\n",
    "df3.head()"
   ]
  },
  {
   "cell_type": "code",
   "execution_count": 42,
   "metadata": {},
   "outputs": [
    {
     "name": "stdout",
     "output_type": "stream",
     "text": [
      "Optimization terminated successfully.\n",
      "         Current function value: 0.366113\n",
      "         Iterations 6\n"
     ]
    }
   ],
   "source": [
    "lm1 = sm.Logit(df3['converted'],df3[['intercept','ab_page', 'US','UK']])\n",
    "res1 = lm1.fit()"
   ]
  },
  {
   "cell_type": "code",
   "execution_count": 43,
   "metadata": {},
   "outputs": [
    {
     "data": {
      "text/html": [
       "<table class=\"simpletable\">\n",
       "<caption>Logit Regression Results</caption>\n",
       "<tr>\n",
       "  <th>Dep. Variable:</th>     <td>converted</td>    <th>  No. Observations:  </th>   <td>290584</td>   \n",
       "</tr>\n",
       "<tr>\n",
       "  <th>Model:</th>               <td>Logit</td>      <th>  Df Residuals:      </th>   <td>290580</td>   \n",
       "</tr>\n",
       "<tr>\n",
       "  <th>Method:</th>               <td>MLE</td>       <th>  Df Model:          </th>   <td>     3</td>   \n",
       "</tr>\n",
       "<tr>\n",
       "  <th>Date:</th>          <td>Thu, 06 Jun 2019</td> <th>  Pseudo R-squ.:     </th>  <td>2.323e-05</td> \n",
       "</tr>\n",
       "<tr>\n",
       "  <th>Time:</th>              <td>10:41:31</td>     <th>  Log-Likelihood:    </th> <td>-1.0639e+05</td>\n",
       "</tr>\n",
       "<tr>\n",
       "  <th>converged:</th>           <td>True</td>       <th>  LL-Null:           </th> <td>-1.0639e+05</td>\n",
       "</tr>\n",
       "<tr>\n",
       "  <th> </th>                      <td> </td>        <th>  LLR p-value:       </th>   <td>0.1760</td>   \n",
       "</tr>\n",
       "</table>\n",
       "<table class=\"simpletable\">\n",
       "<tr>\n",
       "      <td></td>         <th>coef</th>     <th>std err</th>      <th>z</th>      <th>P>|z|</th>  <th>[0.025</th>    <th>0.975]</th>  \n",
       "</tr>\n",
       "<tr>\n",
       "  <th>intercept</th> <td>   -1.9893</td> <td>    0.009</td> <td> -223.763</td> <td> 0.000</td> <td>   -2.007</td> <td>   -1.972</td>\n",
       "</tr>\n",
       "<tr>\n",
       "  <th>ab_page</th>   <td>   -0.0149</td> <td>    0.011</td> <td>   -1.307</td> <td> 0.191</td> <td>   -0.037</td> <td>    0.007</td>\n",
       "</tr>\n",
       "<tr>\n",
       "  <th>US</th>        <td>   -0.0408</td> <td>    0.027</td> <td>   -1.516</td> <td> 0.130</td> <td>   -0.093</td> <td>    0.012</td>\n",
       "</tr>\n",
       "<tr>\n",
       "  <th>UK</th>        <td>    0.0099</td> <td>    0.013</td> <td>    0.743</td> <td> 0.457</td> <td>   -0.016</td> <td>    0.036</td>\n",
       "</tr>\n",
       "</table>"
      ],
      "text/plain": [
       "<class 'statsmodels.iolib.summary.Summary'>\n",
       "\"\"\"\n",
       "                           Logit Regression Results                           \n",
       "==============================================================================\n",
       "Dep. Variable:              converted   No. Observations:               290584\n",
       "Model:                          Logit   Df Residuals:                   290580\n",
       "Method:                           MLE   Df Model:                            3\n",
       "Date:                Thu, 06 Jun 2019   Pseudo R-squ.:               2.323e-05\n",
       "Time:                        10:41:31   Log-Likelihood:            -1.0639e+05\n",
       "converged:                       True   LL-Null:                   -1.0639e+05\n",
       "                                        LLR p-value:                    0.1760\n",
       "==============================================================================\n",
       "                 coef    std err          z      P>|z|      [0.025      0.975]\n",
       "------------------------------------------------------------------------------\n",
       "intercept     -1.9893      0.009   -223.763      0.000      -2.007      -1.972\n",
       "ab_page       -0.0149      0.011     -1.307      0.191      -0.037       0.007\n",
       "US            -0.0408      0.027     -1.516      0.130      -0.093       0.012\n",
       "UK             0.0099      0.013      0.743      0.457      -0.016       0.036\n",
       "==============================================================================\n",
       "\"\"\""
      ]
     },
     "execution_count": 43,
     "metadata": {},
     "output_type": "execute_result"
    }
   ],
   "source": [
    "res1.summary()"
   ]
  },
  {
   "cell_type": "code",
   "execution_count": 44,
   "metadata": {},
   "outputs": [
    {
     "data": {
      "text/plain": [
       "(0.96002111497165088, 1.0099491671175422)"
      ]
     },
     "execution_count": 44,
     "metadata": {},
     "output_type": "execute_result"
    }
   ],
   "source": [
    "np.exp(-0.0408), np.exp(0.0099)"
   ]
  },
  {
   "cell_type": "code",
   "execution_count": 45,
   "metadata": {},
   "outputs": [
    {
     "data": {
      "text/plain": [
       "1.0150115583846535"
      ]
     },
     "execution_count": 45,
     "metadata": {},
     "output_type": "execute_result"
    }
   ],
   "source": [
    "1/np.exp(-0.0149) "
   ]
  },
  {
   "cell_type": "markdown",
   "metadata": {},
   "source": [
    "**Answer** : Looking at the p values of the variables , since they are all smaller than 0.05 , we can say that none of them are significant. Hence we fail to reject the null hypothesis. And can conclude that old page is better than new page.\n",
    "Looking at the coefficient of the variables, we can say that:\n",
    "- A person from Uk has 1.01 probabilty of converting than other countries keeping all other variables constant \n",
    "- Similarly a person from US has 0.96 chances of converting than other countries keeping all other variables constant \n",
    "- and for every 1 unit decrease in new page, conversion is 1.015 more likely.\n"
   ]
  },
  {
   "cell_type": "markdown",
   "metadata": {},
   "source": [
    "h. Though you have now looked at the individual factors of country and page on conversion, we would now like to look at an interaction between page and country to see if there significant effects on conversion.  Create the necessary additional columns, and fit the new model.  \n",
    "\n",
    "Provide the summary results, and your conclusions based on the results."
   ]
  },
  {
   "cell_type": "code",
   "execution_count": 48,
   "metadata": {},
   "outputs": [
    {
     "name": "stderr",
     "output_type": "stream",
     "text": [
      "/opt/conda/lib/python3.6/site-packages/ipykernel_launcher.py:2: SettingWithCopyWarning: \n",
      "A value is trying to be set on a copy of a slice from a DataFrame.\n",
      "Try using .loc[row_indexer,col_indexer] = value instead\n",
      "\n",
      "See the caveats in the documentation: http://pandas.pydata.org/pandas-docs/stable/indexing.html#indexing-view-versus-copy\n",
      "  \n",
      "/opt/conda/lib/python3.6/site-packages/ipykernel_launcher.py:3: SettingWithCopyWarning: \n",
      "A value is trying to be set on a copy of a slice from a DataFrame.\n",
      "Try using .loc[row_indexer,col_indexer] = value instead\n",
      "\n",
      "See the caveats in the documentation: http://pandas.pydata.org/pandas-docs/stable/indexing.html#indexing-view-versus-copy\n",
      "  This is separate from the ipykernel package so we can avoid doing imports until\n"
     ]
    }
   ],
   "source": [
    "dfcorr = df3[['converted','ab_page', 'US','UK']]\n",
    "dfcorr['USPage'] = dfcorr['ab_page'] * dfcorr['US']\n",
    "dfcorr['UKPage']  = dfcorr['ab_page'] * dfcorr['UK']"
   ]
  },
  {
   "cell_type": "code",
   "execution_count": 49,
   "metadata": {},
   "outputs": [
    {
     "data": {
      "text/html": [
       "<div>\n",
       "<style scoped>\n",
       "    .dataframe tbody tr th:only-of-type {\n",
       "        vertical-align: middle;\n",
       "    }\n",
       "\n",
       "    .dataframe tbody tr th {\n",
       "        vertical-align: top;\n",
       "    }\n",
       "\n",
       "    .dataframe thead th {\n",
       "        text-align: right;\n",
       "    }\n",
       "</style>\n",
       "<table border=\"1\" class=\"dataframe\">\n",
       "  <thead>\n",
       "    <tr style=\"text-align: right;\">\n",
       "      <th></th>\n",
       "      <th>converted</th>\n",
       "      <th>ab_page</th>\n",
       "      <th>US</th>\n",
       "      <th>UK</th>\n",
       "      <th>USPage</th>\n",
       "      <th>UKPage</th>\n",
       "    </tr>\n",
       "  </thead>\n",
       "  <tbody>\n",
       "    <tr>\n",
       "      <th>converted</th>\n",
       "      <td>1.000000</td>\n",
       "      <td>-0.002432</td>\n",
       "      <td>-0.003022</td>\n",
       "      <td>0.001772</td>\n",
       "      <td>-0.003807</td>\n",
       "      <td>0.001827</td>\n",
       "    </tr>\n",
       "    <tr>\n",
       "      <th>ab_page</th>\n",
       "      <td>-0.002432</td>\n",
       "      <td>1.000000</td>\n",
       "      <td>0.001600</td>\n",
       "      <td>-0.002092</td>\n",
       "      <td>0.160519</td>\n",
       "      <td>0.376626</td>\n",
       "    </tr>\n",
       "    <tr>\n",
       "      <th>US</th>\n",
       "      <td>-0.003022</td>\n",
       "      <td>0.001600</td>\n",
       "      <td>1.000000</td>\n",
       "      <td>-0.132090</td>\n",
       "      <td>0.700541</td>\n",
       "      <td>-0.086320</td>\n",
       "    </tr>\n",
       "    <tr>\n",
       "      <th>UK</th>\n",
       "      <td>0.001772</td>\n",
       "      <td>-0.002092</td>\n",
       "      <td>-0.132090</td>\n",
       "      <td>1.000000</td>\n",
       "      <td>-0.092534</td>\n",
       "      <td>0.653496</td>\n",
       "    </tr>\n",
       "    <tr>\n",
       "      <th>USPage</th>\n",
       "      <td>-0.003807</td>\n",
       "      <td>0.160519</td>\n",
       "      <td>0.700541</td>\n",
       "      <td>-0.092534</td>\n",
       "      <td>1.000000</td>\n",
       "      <td>-0.060471</td>\n",
       "    </tr>\n",
       "    <tr>\n",
       "      <th>UKPage</th>\n",
       "      <td>0.001827</td>\n",
       "      <td>0.376626</td>\n",
       "      <td>-0.086320</td>\n",
       "      <td>0.653496</td>\n",
       "      <td>-0.060471</td>\n",
       "      <td>1.000000</td>\n",
       "    </tr>\n",
       "  </tbody>\n",
       "</table>\n",
       "</div>"
      ],
      "text/plain": [
       "           converted   ab_page        US        UK    USPage    UKPage\n",
       "converted   1.000000 -0.002432 -0.003022  0.001772 -0.003807  0.001827\n",
       "ab_page    -0.002432  1.000000  0.001600 -0.002092  0.160519  0.376626\n",
       "US         -0.003022  0.001600  1.000000 -0.132090  0.700541 -0.086320\n",
       "UK          0.001772 -0.002092 -0.132090  1.000000 -0.092534  0.653496\n",
       "USPage     -0.003807  0.160519  0.700541 -0.092534  1.000000 -0.060471\n",
       "UKPage      0.001827  0.376626 -0.086320  0.653496 -0.060471  1.000000"
      ]
     },
     "execution_count": 49,
     "metadata": {},
     "output_type": "execute_result"
    }
   ],
   "source": [
    "dfcorr.corr(method='spearman')"
   ]
  },
  {
   "cell_type": "markdown",
   "metadata": {},
   "source": [
    "Looking at all the results, it is clear that old page is better than the new page as it is leads to more conversions than new page."
   ]
  },
  {
   "cell_type": "code",
   "execution_count": 51,
   "metadata": {},
   "outputs": [
    {
     "data": {
      "text/plain": [
       "0"
      ]
     },
     "execution_count": 51,
     "metadata": {},
     "output_type": "execute_result"
    }
   ],
   "source": [
    "from subprocess import call\n",
    "call(['python', '-m', 'nbconvert', 'Analyze_ab_test_results_notebook.ipynb'])"
   ]
  },
  {
   "cell_type": "markdown",
   "metadata": {},
   "source": [
    "Resources:\n",
    "- https://web.csulb.edu/~msaintg/ppa696/696regmx.htm\n",
    "- http://www.real-statistics.com/multiple-regression/multiple-regression-    analysis/multiple-regression-basic-concepts/\n",
    "- Khan Academy\n",
    "- StackOverflow and StackExchange\n"
   ]
  },
  {
   "cell_type": "code",
   "execution_count": null,
   "metadata": {},
   "outputs": [],
   "source": []
  }
 ],
 "metadata": {
  "kernelspec": {
   "display_name": "Python 3",
   "language": "python",
   "name": "python3"
  },
  "language_info": {
   "codemirror_mode": {
    "name": "ipython",
    "version": 3
   },
   "file_extension": ".py",
   "mimetype": "text/x-python",
   "name": "python",
   "nbconvert_exporter": "python",
   "pygments_lexer": "ipython3",
   "version": "3.6.3"
  }
 },
 "nbformat": 4,
 "nbformat_minor": 2
}
